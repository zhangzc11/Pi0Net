{
 "cells": [
  {
   "cell_type": "code",
   "execution_count": 196,
   "metadata": {},
   "outputs": [],
   "source": [
    "import os\n",
    "import matplotlib.pyplot as plt\n",
    "from sklearn.model_selection import train_test_split\n",
    "from sklearn.metrics import accuracy_score, roc_curve\n",
    "import root_pandas as rp\n",
    "import numpy as np\n",
    "import ROOT as root\n",
    "from keras.models import Sequential, Model\n",
    "from keras.layers import Dense, Activation, Dropout, Concatenate, concatenate\n",
    "from keras.layers import Conv2D, MaxPooling2D, Flatten, BatchNormalization, Input\n",
    "from keras import regularizers"
   ]
  },
  {
   "cell_type": "markdown",
   "metadata": {},
   "source": [
    "## Step 1: read the root file and save it to Nx3x3x5 array"
   ]
  },
  {
   "cell_type": "code",
   "execution_count": 105,
   "metadata": {},
   "outputs": [],
   "source": [
    "def get_array_from_rootfile(inputFileName, treename):\n",
    "    inputFile = root.TFile(inputFileName)\n",
    "    variables_array = [\"STr2_ehitG_rec\", \"STr2_overlapG_rec\", \"STr2_gapG_rec\"]\n",
    "    variables_1d = [\"STr2_enG_rec\", \"STr2_enG_true\", \"STr2_iEtaiX\", \"STr2_iPhiiY\"]\n",
    "    tree = inputFile.Get(treename)\n",
    "    NEntries = tree.GetEntries()\n",
    "    print(\"Reading tree \"+treename+\", NEntries = \"+str(NEntries))\n",
    "    dfp = rp.read_root(inputFileName, key=treename, columns=variables_array+variables_1d, flatten=variables_array)\n",
    "    df = dfp.reindex(columns=variables_array+variables_1d)\n",
    "    arr_df = df.values\n",
    "    X = np.zeros((NEntries, 3, 3, 5))\n",
    "    Y = np.zeros(NEntries)\n",
    "    Y_raw = np.zeros(NEntries)\n",
    "    for idx in range(NEntries):\n",
    "        temp = np.array([\n",
    "                [\n",
    "                  [arr_df[idx*9+8][0], arr_df[idx*9+7][0], arr_df[idx*9+6][0]],\n",
    "                  [arr_df[idx*9+5][0], arr_df[idx*9+4][0], arr_df[idx*9+3][0]],\n",
    "                  [arr_df[idx*9+2][0], arr_df[idx*9+1][0], arr_df[idx*9+0][0]]\n",
    "                ],\n",
    "\n",
    "                [\n",
    "                  [arr_df[idx*9+8][1], arr_df[idx*9+7][1], arr_df[idx*9+6][1]],\n",
    "                  [arr_df[idx*9+5][1], arr_df[idx*9+4][1], arr_df[idx*9+3][1]],\n",
    "                  [arr_df[idx*9+2][1], arr_df[idx*9+1][1], arr_df[idx*9+0][1]]\n",
    "                ],\n",
    "                [\n",
    "                  [arr_df[idx*9+8][2], arr_df[idx*9+7][2], arr_df[idx*9+6][2]],\n",
    "                  [arr_df[idx*9+5][2], arr_df[idx*9+4][2], arr_df[idx*9+3][2]],\n",
    "                  [arr_df[idx*9+2][2], arr_df[idx*9+1][2], arr_df[idx*9+0][2]]\n",
    "                ],\n",
    "                [\n",
    "                  [arr_df[idx*9+8][5]-1, arr_df[idx*9+7][5], arr_df[idx*9+6][5]+1],\n",
    "                  [arr_df[idx*9+5][5]-1, arr_df[idx*9+4][5], arr_df[idx*9+3][5]+1],\n",
    "                  [arr_df[idx*9+2][5]-1, arr_df[idx*9+1][5], arr_df[idx*9+0][5]+1]\n",
    "                ],\n",
    "                [\n",
    "                  [arr_df[idx*9+8][6]+1, arr_df[idx*9+7][6]+1, arr_df[idx*9+6][6]+1],\n",
    "                  [arr_df[idx*9+5][6], arr_df[idx*9+4][6], arr_df[idx*9+3][6]],\n",
    "                  [arr_df[idx*9+2][6]-1, arr_df[idx*9+1][6]-1, arr_df[idx*9+0][6]-1]\n",
    "                ]\n",
    "              ])\n",
    "        X[idx] = np.copy(np.rollaxis(temp, 0, 3))\n",
    "        Y[idx] = arr_df[idx*9][4]\n",
    "        Y_raw[idx] = arr_df[idx*9][3]\n",
    "        \n",
    "    return X, Y, Y_raw"
   ]
  },
  {
   "cell_type": "code",
   "execution_count": 106,
   "metadata": {},
   "outputs": [
    {
     "name": "stdout",
     "output_type": "stream",
     "text": [
      "Reading tree Tree_Optim_train_gamma1, NEntries = 523126\n"
     ]
    }
   ],
   "source": [
    "X_train_gamma1, Y_train_gamma1, Y_raw_train_gamma1= get_array_from_rootfile(\"data/photonNtuple_EB.root\", \"Tree_Optim_train_gamma1\")"
   ]
  },
  {
   "cell_type": "code",
   "execution_count": 107,
   "metadata": {},
   "outputs": [
    {
     "name": "stdout",
     "output_type": "stream",
     "text": [
      "Reading tree Tree_Optim_test_gamma1, NEntries = 92069\n"
     ]
    }
   ],
   "source": [
    "X_test_gamma1, Y_test_gamma1, Y_raw_test_gamma1 = get_array_from_rootfile(\"data/photonNtuple_EB.root\", \"Tree_Optim_test_gamma1\")"
   ]
  },
  {
   "cell_type": "code",
   "execution_count": 57,
   "metadata": {},
   "outputs": [
    {
     "name": "stdout",
     "output_type": "stream",
     "text": [
      "[[0.09377262 0.36675191 0.        ]\n",
      " [0.82470185 6.8442812  0.27380589]\n",
      " [0.14313883 0.10411293 0.        ]]\n",
      "[[ 0.  0.  0.]\n",
      " [ 0.  0. -1.]\n",
      " [ 0.  0.  0.]]\n",
      "[[7.0999999  6.9000001  6.9000001 ]\n",
      " [7.0999999  6.9000001  6.9000001 ]\n",
      " [1.60000002 1.39999998 1.39999998]]\n",
      "[[-63. -62. -61.]\n",
      " [-63. -62. -61.]\n",
      " [-63. -62. -61.]]\n",
      "[[341. 341. 341.]\n",
      " [340. 340. 340.]\n",
      " [339. 339. 339.]]\n"
     ]
    }
   ],
   "source": [
    "for idx in range(len(X_train_gamma1[0,0,0,:])):\n",
    "    print(X_train_gamma1[0,:,:,idx])"
   ]
  },
  {
   "cell_type": "markdown",
   "metadata": {},
   "source": [
    "## Step2: basic visualization to see the data feature"
   ]
  },
  {
   "cell_type": "code",
   "execution_count": 66,
   "metadata": {},
   "outputs": [],
   "source": [
    "def plot_3x3map(hitmap, iEtaiX, iPhiiY, ETrue):\n",
    "    os.system('mkdir -p plots')\n",
    "    plt.clf()\n",
    "    ax = plt.subplot(1,1,1)\n",
    "    plt.imshow(hitmap, cmap=plt.cm.coolwarm, alpha=.9)#, extent=extent)\n",
    "    plt.xticks([0,1,2], fontsize=16)\n",
    "    plt.yticks([0,1,2], fontsize=16)\n",
    "    ax.set_xticklabels([\"%.0f\"%(iEtaiX-1),\"%.0f\"%(iEtaiX),\"%.0f\"%(iEtaiX+1)])\n",
    "    ax.set_yticklabels([\"%.0f\"%(iPhiiY+1),\"%.0f\"%(iPhiiY),\"%.0f\"%(iPhiiY-1)])\n",
    "    for i in range(3):\n",
    "        for j in range(3):\n",
    "            plt.text(i, j, \"%.2f\"%hitmap[j][i], ha=\"center\", va=\"center\", color=\"w\", fontsize=16)\n",
    "    EReco = np.sum(hitmap)\n",
    "    plt.title(\"$E_{reco}$/$E_{true}$ = %.2f/%.2f = %.2f\"%(EReco, ETrue, EReco/ETrue))\n",
    "    plt.xlabel('i$\\eta$',horizontalalignment='right', x=1.0, fontsize=14, labelpad=-17)\n",
    "    plt.ylabel('i$\\phi$',horizontalalignment='right', y=1.0, fontsize=14, labelpad=-17)\n",
    "    plt.savefig(\"plots/hitmap_seed_iEta%.0f_iPhi%.0f.pdf\"%(iEtaiX, iPhiiY))\n",
    "    plt.savefig(\"plots/hitmap_seed_iEta%.0f_iPhi%.0f.png\"%(iEtaiX, iPhiiY))\n",
    "    #plt.show()\n",
    "    \n",
    "    if EReco > 0:\n",
    "        plt.clf()\n",
    "        ax = plt.subplot(1,1,1)\n",
    "        plt.imshow(hitmap/EReco, cmap=plt.cm.coolwarm, alpha=.9)#, extent=extent)\n",
    "        plt.xticks([0,1,2], fontsize=16)\n",
    "        plt.yticks([0,1,2], fontsize=16)\n",
    "        ax.set_xticklabels([\"%.0f\"%(iEtaiX-1),\"%.0f\"%(iEtaiX),\"%.0f\"%(iEtaiX+1)])\n",
    "        ax.set_yticklabels([\"%.0f\"%(iPhiiY+1),\"%.0f\"%(iPhiiY),\"%.0f\"%(iPhiiY-1)])\n",
    "        for i in range(3):\n",
    "            for j in range(3):\n",
    "                plt.text(i, j, \"%.2f\"%(hitmap[j][i]/EReco), ha=\"center\", va=\"center\", color=\"w\", fontsize=16)\n",
    "        plt.title(\"$E_{reco}$/$E_{true}$ = %.2f/%.2f = %.2f\"%(EReco, ETrue, EReco/ETrue))\n",
    "        plt.xlabel('i$\\eta$',horizontalalignment='right', x=1.0, fontsize=14, labelpad=-17)\n",
    "        plt.ylabel('i$\\phi$',horizontalalignment='right', y=1.0, fontsize=14, labelpad=-17)\n",
    "        plt.savefig(\"plots/hitmap_ratio_seed_iEta%.0f_iPhi%.0f.pdf\"%(iEtaiX, iPhiiY))\n",
    "        plt.savefig(\"plots/hitmap_ratio_seed_iEta%.0f_iPhi%.0f.png\"%(iEtaiX, iPhiiY))\n",
    "        #plt.show()\n",
    "def plot_3x3map_iEta_constant(hitmap, iEtaiX, ETrue):\n",
    "    os.system('mkdir -p plots')\n",
    "    plt.clf()\n",
    "    ax = plt.subplot(1,1,1)\n",
    "    plt.imshow(hitmap, cmap=plt.cm.coolwarm, alpha=.9)#, extent=extent)\n",
    "    plt.xticks([0,1,2], fontsize=16)\n",
    "    plt.yticks([0,1,2], fontsize=16)\n",
    "    ax.set_xticklabels([\"%.0f\"%(iEtaiX-1),\"%.0f\"%(iEtaiX),\"%.0f\"%(iEtaiX+1)])\n",
    "    ax.set_yticklabels([\"Y+1\",\"Y\",\"Y-1\"])\n",
    "    for i in range(3):\n",
    "        for j in range(3):\n",
    "            plt.text(i, j, \"%.2f\"%hitmap[j][i], ha=\"center\", va=\"center\", color=\"w\", fontsize=16)\n",
    "    EReco = np.sum(hitmap)\n",
    "    plt.title(\"$E_{reco}$/$E_{true}$ = %.2f/%.2f = %.2f\"%(EReco, ETrue, EReco/ETrue))\n",
    "    plt.xlabel('i$\\eta$',horizontalalignment='right', x=1.0, fontsize=14, labelpad=-17)\n",
    "    plt.ylabel('i$\\phi$',horizontalalignment='right', y=1.0, fontsize=14, labelpad=-17)\n",
    "    plt.savefig(\"plots/hitmap_constant_seed_iEta%.0f.pdf\"%iEtaiX)\n",
    "    plt.savefig(\"plots/hitmap_constant_seed_iEta%.0f.png\"%iEtaiX)\n",
    "    #plt.show()\n",
    "    \n",
    "    if EReco > 0:\n",
    "        plt.clf()\n",
    "        ax = plt.subplot(1,1,1)\n",
    "        plt.imshow(hitmap/EReco, cmap=plt.cm.coolwarm, alpha=.9)#, extent=extent)\n",
    "        plt.xticks([0,1,2], fontsize=16)\n",
    "        plt.yticks([0,1,2], fontsize=16)\n",
    "        ax.set_xticklabels([\"%.0f\"%(iEtaiX-1),\"%.0f\"%(iEtaiX),\"%.0f\"%(iEtaiX+1)])\n",
    "        ax.set_yticklabels([\"Y+1\",\"Y\",\"Y-1\"])\n",
    "        for i in range(3):\n",
    "            for j in range(3):\n",
    "                plt.text(i, j, \"%.2f\"%(hitmap[j][i]/EReco), ha=\"center\", va=\"center\", color=\"w\", fontsize=16)\n",
    "        plt.title(\"$E_{reco}$/$E_{true}$ = %.2f/%.2f = %.2f\"%(EReco, ETrue, EReco/ETrue))\n",
    "        plt.xlabel('i$\\eta$',horizontalalignment='right', x=1.0, fontsize=14, labelpad=-17)\n",
    "        plt.ylabel('i$\\phi$',horizontalalignment='right', y=1.0, fontsize=14, labelpad=-17)\n",
    "        plt.savefig(\"plots/hitmap_ratio_constant_seed_iEta%.0f.pdf\"%iEtaiX)\n",
    "        plt.savefig(\"plots/hitmap_ratio_constant_seed_iEta%.0f.png\"%iEtaiX)\n",
    "        #plt.show() \n",
    "def plot_3x3map_iPhi_constant(hitmap, iPhiiY, ETrue):\n",
    "    os.system('mkdir -p plots')\n",
    "    plt.clf()\n",
    "    ax = plt.subplot(1,1,1)\n",
    "    plt.imshow(hitmap, cmap=plt.cm.coolwarm, alpha=.9)#, extent=extent)\n",
    "    plt.xticks([0,1,2], fontsize=16)\n",
    "    plt.yticks([0,1,2], fontsize=16)\n",
    "    ax.set_yticklabels([\"%.0f\"%(iPhiiY+1),\"%.0f\"%(iPhiiY),\"%.0f\"%(iPhiiY-1)])\n",
    "    ax.set_xticklabels([\"X+1\",\"X\",\"X-1\"])\n",
    "    for i in range(3):\n",
    "        for j in range(3):\n",
    "            plt.text(i, j, \"%.2f\"%hitmap[j][i], ha=\"center\", va=\"center\", color=\"w\", fontsize=16)\n",
    "    EReco = np.sum(hitmap)\n",
    "    plt.title(\"$E_{reco}$/$E_{true}$ = %.2f/%.2f = %.2f\"%(EReco, ETrue, EReco/ETrue))\n",
    "    plt.xlabel('i$\\eta$',horizontalalignment='right', x=1.0, fontsize=14, labelpad=-17)\n",
    "    plt.ylabel('i$\\phi$',horizontalalignment='right', y=1.0, fontsize=14, labelpad=-17)\n",
    "    plt.savefig(\"plots/hitmap_constant_seed_iPhi%.0f.pdf\"%iPhiiY)\n",
    "    plt.savefig(\"plots/hitmap_constant_seed_iPhi%.0f.png\"%iPhiiY)\n",
    "    #plt.show()\n",
    "    \n",
    "    if EReco > 0:\n",
    "        plt.clf()\n",
    "        ax = plt.subplot(1,1,1)\n",
    "        plt.imshow(hitmap/EReco, cmap=plt.cm.coolwarm, alpha=.9)#, extent=extent)\n",
    "        plt.xticks([0,1,2], fontsize=16)\n",
    "        plt.yticks([0,1,2], fontsize=16)\n",
    "        ax.set_yticklabels([\"%.0f\"%(iPhiiY+1),\"%.0f\"%(iPhiiY),\"%.0f\"%(iPhiiY-1)])\n",
    "        ax.set_xticklabels([\"X+1\",\"X\",\"X-1\"])\n",
    "        for i in range(3):\n",
    "            for j in range(3):\n",
    "                plt.text(i, j, \"%.2f\"%(hitmap[j][i]/EReco), ha=\"center\", va=\"center\", color=\"w\", fontsize=16)\n",
    "        plt.title(\"$E_{reco}$/$E_{true}$ = %.2f/%.2f = %.2f\"%(EReco, ETrue, EReco/ETrue))\n",
    "        plt.xlabel('i$\\eta$',horizontalalignment='right', x=1.0, fontsize=14, labelpad=-17)\n",
    "        plt.ylabel('i$\\phi$',horizontalalignment='right', y=1.0, fontsize=14, labelpad=-17)\n",
    "        plt.savefig(\"plots/hitmap_ratio_constant_seed_iPhi%.0f.pdf\"%iPhiiY)\n",
    "        plt.savefig(\"plots/hitmap_ratio_constant_seed_iPhi%.0f.png\"%iPhiiY)\n",
    "        #plt.show() \n",
    "        \n",
    "def plot_3x3gapmap(gapmap, iEtaiX, iPhiiY):\n",
    "    os.system('mkdir -p plots')\n",
    "    plt.clf()\n",
    "    ax = plt.subplot(1,1,1)\n",
    "    plt.imshow(gapmap, cmap=plt.cm.coolwarm, alpha=.9)#, extent=extent)\n",
    "    plt.xticks([0,1,2], fontsize=16)\n",
    "    plt.yticks([0,1,2], fontsize=16)\n",
    "    ax.set_xticklabels([\"%.0f\"%(iEtaiX-1),\"%.0f\"%(iEtaiX),\"%.0f\"%(iEtaiX+1)])\n",
    "    ax.set_yticklabels([\"%.0f\"%(iPhiiY+1),\"%.0f\"%(iPhiiY),\"%.0f\"%(iPhiiY-1)])\n",
    "    for i in range(3):\n",
    "        for j in range(3):\n",
    "            plt.text(i, j, \"%.2f\"%gapmap[j][i], ha=\"center\", va=\"center\", color=\"w\", fontsize=16)\n",
    "    plt.title(\"Gap Size [mm]\")\n",
    "    plt.xlabel('i$\\eta$',horizontalalignment='right', x=1.0, fontsize=14, labelpad=-17)\n",
    "    plt.ylabel('i$\\phi$',horizontalalignment='right', y=1.0, fontsize=14, labelpad=-17)\n",
    "    plt.savefig(\"plots/gapmap_seed_iEta%.0f_iPhi%.0f.pdf\"%(iEtaiX, iPhiiY))\n",
    "    plt.savefig(\"plots/gapmap_seed_iEta%.0f_iPhi%.0f.png\"%(iEtaiX, iPhiiY))\n",
    "    #plt.show()\n",
    "\n",
    "def average_map(iEta, iPhi, hitmap_all, ETrue_all, iEtaiX_all, iPhiiY_all):\n",
    "    hitmap = np.zeros((3,3))\n",
    "    ETrue = 0.0\n",
    "    if iEta < -84.5 or iEta > 84.5:\n",
    "        return hitmap, ETrue\n",
    "    if iPhi < 1.5 or iPhi > 359.5:\n",
    "        return hitmap, ETrue\n",
    "    num_total = 0\n",
    "    \n",
    "    for idx in range(len(hitmap_all)):\n",
    "        if iEtaiX_all[idx][1][1] == iEta and iPhiiY_all[idx][1][1] == iPhi:\n",
    "            #print(hitmap_all[idx])\n",
    "            num_total += 1\n",
    "            hitmap = np.copy(hitmap+hitmap_all[idx])\n",
    "            ETrue += ETrue_all[idx]\n",
    "    hitmap = hitmap/num_total\n",
    "    ETrue = ETrue/num_total\n",
    "    return hitmap, ETrue\n",
    "def average_map_iEta_constant(iEta, hitmap_all, ETrue_all, iEtaiX_all):\n",
    "    hitmap = np.zeros((3,3))\n",
    "    ETrue = 0.0\n",
    "    if iEta < -84.5 or iEta > 84.5:\n",
    "        return hitmap, ETrue\n",
    "    num_total = 0\n",
    "    for idx in range(len(hitmap_all)):\n",
    "        if iEtaiX_all[idx][1][1] == iEta:\n",
    "            num_total += 1\n",
    "            hitmap = np.copy(hitmap+hitmap_all[idx])\n",
    "            ETrue += ETrue_all[idx]\n",
    "    hitmap = hitmap/num_total\n",
    "    ETrue = ETrue/num_total\n",
    "    return hitmap, ETrue\n",
    "\n",
    "def average_map_iPhi_constant(iPhi, hitmap_all, ETrue_all, iPhiiY_all):\n",
    "    hitmap = np.zeros((3,3))\n",
    "    ETrue = 0.0\n",
    "    if iPhi < 1.5 or iPhi > 359.5:\n",
    "        return hitmap, ETrue\n",
    "    num_total = 0\n",
    "    \n",
    "    for idx in range(len(hitmap_all)):\n",
    "        if iPhiiY_all[idx][1][1] == iPhi:\n",
    "            num_total += 1\n",
    "            hitmap = np.copy(hitmap+hitmap_all[idx])\n",
    "            ETrue += ETrue_all[idx]\n",
    "    hitmap = hitmap/num_total\n",
    "    ETrue = ETrue/num_total\n",
    "    return hitmap, ETrue"
   ]
  },
  {
   "cell_type": "code",
   "execution_count": 72,
   "metadata": {},
   "outputs": [
    {
     "data": {
      "image/png": "[encoded data removed]",
      "text/plain": [
       "<Figure size 432x288 with 1 Axes>"
      ]
     },
     "metadata": {
      "needs_background": "light"
     },
     "output_type": "display_data"
    }
   ],
   "source": [
    "## plot hitmap for seed crystals in iEta iPhi of interest\n",
    "iEtaiPhi_interests = [[25,20], [24,20], [24,19], [23,18], \n",
    "                      [23,38], [23,58], [23,78],[23,98], \n",
    "                      [43,18], [63,18], [83,18]]\n",
    "index_interests = np.zeros(len(iEtaiPhi_interests), dtype=np.int32) - 999\n",
    "for idx1 in range(len(X_train_gamma1)):\n",
    "    allFound = True\n",
    "    for idx2 in range(len(index_interests)):\n",
    "        if X_train_gamma1[idx1,:,:,3][1][1] == iEtaiPhi_interests[idx2][0] and X_train_gamma1[idx1,:,:,4][1][1] == iEtaiPhi_interests[idx2][1]:\n",
    "            index_interests[idx2] = idx1\n",
    "        if index_interests[idx2] < 0:\n",
    "            allFound = False\n",
    "    if allFound:\n",
    "        break\n",
    "for idx in range(len(iEtaiPhi_interests)):\n",
    "    plot_3x3gapmap(X_train_gamma1[index_interests[idx],:,:,2],X_train_gamma1[index_interests[idx],:,:,3][1][1], X_train_gamma1[index_interests[idx],:,:,4][1][1])\n",
    "    hitmap_this, ETrue_this = average_map(iEtaiPhi_interests[idx][0],iEtaiPhi_interests[idx][1],X_train_gamma1[:,:,:,0], Y_train_gamma1, X_train_gamma1[:,:,:,3], X_train_gamma1[:,:,:,4])  \n",
    "    plot_3x3map(hitmap_this, iEtaiPhi_interests[idx][0],iEtaiPhi_interests[idx][1], ETrue_this)\n",
    "    \n",
    "## plot hitmap for seed crystals at constant iEta or iPhi\n",
    "iEta_interests = [25, 24, 23, 43, 63, 83]\n",
    "for idx in range(len(iEta_interests)):\n",
    "    hitmap_this, ETrue_this = average_map_iEta_constant(iEta_interests[idx],X_train_gamma1[:,:,:,0], Y_train_gamma1, X_train_gamma1[:,:,:,3])  \n",
    "    plot_3x3map_iEta_constant(hitmap_this, iEta_interests[idx], ETrue_this)\n",
    "iPhi_interests = [20, 19, 18, 38, 58, 88]\n",
    "for idx in range(len(iPhi_interests)):\n",
    "    hitmap_this, ETrue_this = average_map_iPhi_constant(iPhi_interests[idx],X_train_gamma1[:,:,:,0], Y_train_gamma1, X_train_gamma1[:,:,:,4])  \n",
    "    plot_3x3map_iPhi_constant(hitmap_this, iPhi_interests[idx], ETrue_this)"
   ]
  },
  {
   "cell_type": "markdown",
   "metadata": {},
   "source": [
    "## Step3: build and train the Pi0Net model"
   ]
  },
  {
   "cell_type": "code",
   "execution_count": 241,
   "metadata": {},
   "outputs": [
    {
     "name": "stdout",
     "output_type": "stream",
     "text": [
      "__________________________________________________________________________________________________\n",
      "Layer (type)                    Output Shape         Param #     Connected to                     \n",
      "==================================================================================================\n",
      "input_CNN (InputLayer)          (None, 3, 3, 5)      0                                            \n",
      "__________________________________________________________________________________________________\n",
      "conv2d_151 (Conv2D)             (None, 2, 2, 16)     336         input_CNN[0][0]                  \n",
      "__________________________________________________________________________________________________\n",
      "conv2d_152 (Conv2D)             (None, 3, 1, 16)     256         input_CNN[0][0]                  \n",
      "__________________________________________________________________________________________________\n",
      "conv2d_153 (Conv2D)             (None, 1, 3, 16)     256         input_CNN[0][0]                  \n",
      "__________________________________________________________________________________________________\n",
      "flatten_149 (Flatten)           (None, 64)           0           conv2d_151[0][0]                 \n",
      "__________________________________________________________________________________________________\n",
      "flatten_150 (Flatten)           (None, 48)           0           conv2d_152[0][0]                 \n",
      "__________________________________________________________________________________________________\n",
      "flatten_151 (Flatten)           (None, 48)           0           conv2d_153[0][0]                 \n",
      "__________________________________________________________________________________________________\n",
      "concatenate_47 (Concatenate)    (None, 160)          0           flatten_149[0][0]                \n",
      "                                                                 flatten_150[0][0]                \n",
      "                                                                 flatten_151[0][0]                \n",
      "__________________________________________________________________________________________________\n",
      "dense_119 (Dense)               (None, 64)           10304       concatenate_47[0][0]             \n",
      "__________________________________________________________________________________________________\n",
      "dense_120 (Dense)               (None, 32)           2080        dense_119[0][0]                  \n",
      "__________________________________________________________________________________________________\n",
      "input_Dense (InputLayer)        (None, 1)            0                                            \n",
      "__________________________________________________________________________________________________\n",
      "concatenate_48 (Concatenate)    (None, 33)           0           dense_120[0][0]                  \n",
      "                                                                 input_Dense[0][0]                \n",
      "__________________________________________________________________________________________________\n",
      "dense_121 (Dense)               (None, 16)           544         concatenate_48[0][0]             \n",
      "__________________________________________________________________________________________________\n",
      "dense_122 (Dense)               (None, 1)            17          dense_121[0][0]                  \n",
      "==================================================================================================\n",
      "Total params: 13,793\n",
      "Trainable params: 13,793\n",
      "Non-trainable params: 0\n",
      "__________________________________________________________________________________________________\n"
     ]
    }
   ],
   "source": [
    "#x_train, x_valid, y_train, y_valid = train_test_split(X_train_gamma1, Y_train_gamma1, test_size=0.2, random_state=1992)\n",
    "def getPi0Net():\n",
    "    input_CNN = Input(shape=(3,3,5), name='input_CNN')\n",
    "    input_Dense = Input(shape=(1,), name='input_Dense')\n",
    "\n",
    "    model1 = Conv2D(16, (2, 2), padding='valid', activation='relu')(input_CNN)\n",
    "    model1_out = Flatten()(model1)\n",
    "\n",
    "    model2 = Conv2D(16, (1, 3), padding='valid', activation='relu')(input_CNN)\n",
    "    model2_out = Flatten()(model2)\n",
    "\n",
    "    model3 = Conv2D(16, (3, 1), padding='valid', activation='relu')(input_CNN)\n",
    "    model3_out = Flatten()(model3)\n",
    "\n",
    "    model_con1 = concatenate([model1_out, model2_out, model3_out])\n",
    "\n",
    "    model_con1 = Dense(64, activation='relu')(model_con1)\n",
    "    model_con1 = Dense(32, activation='relu')(model_con1)\n",
    "\n",
    "    model_con2 = concatenate([model_con1, input_Dense])\n",
    "    model_con2 = Dense(16, activation='relu')(model_con2)\n",
    "    main_output = Dense(1)(model_con2)\n",
    "\n",
    "    model = Model(inputs=[input_CNN,input_Dense], outputs=main_output)\n",
    "\n",
    "    model.compile(optimizer='Adam',\n",
    "                  loss='mean_squared_error',\n",
    "                  metrics=['accuracy'])\n",
    "    return model\n",
    "\n",
    "model = getPi0Net()\n",
    "model.summary()\n",
    "#model.fit([X_train_gamma1,Y_raw_train_gamma1], Y_train_gamma1, epochs=10, batch_size=32)\n",
    "#model.fit(x_train, y_train, epochs=10, batch_size=32, validation_data=(x_valid, y_valid))"
   ]
  },
  {
   "cell_type": "code",
   "execution_count": 228,
   "metadata": {},
   "outputs": [
    {
     "name": "stdout",
     "output_type": "stream",
     "text": [
      "[ 6.3883576  6.558522   9.946814   9.713714   9.97624    8.897541\n",
      "  5.6263     7.442049  14.206652   6.5679035]\n",
      "[ 6.58856153  1.47646618  9.93165112 10.64803696  9.55101776 11.29802322\n",
      "  3.18591595  7.90251541 11.19425488  5.7607646 ]\n",
      "[11.12808132  9.59782505 11.89663219  9.42013741 10.04953384  7.30640411\n",
      "  3.38078475  7.36120129 12.58422375  6.35194445]\n"
     ]
    }
   ],
   "source": [
    "Y_predict_test_gamma1 = model.predict([X_test_gamma1, Y_raw_test_gamma1]).flatten()\n",
    "print(Y_predict_test_gamma1[:10])\n",
    "print(Y_raw_test_gamma1[:10])\n",
    "print(Y_test_gamma1[:10])"
   ]
  },
  {
   "cell_type": "markdown",
   "metadata": {},
   "source": [
    "## Step 4: plot the energy response before and after correction"
   ]
  },
  {
   "cell_type": "code",
   "execution_count": 238,
   "metadata": {},
   "outputs": [
    {
     "data": {
      "image/png": "[encoded data removed]",
      "text/plain": [
       "<Figure size 432x288 with 1 Axes>"
      ]
     },
     "metadata": {
      "needs_background": "light"
     },
     "output_type": "display_data"
    }
   ],
   "source": [
    "def plot_E_over_Etrue(Y_true, Y_raw, Y_cor, plotname):\n",
    "    plt.clf()\n",
    "    Y_raw_over_true = np.divide(Y_raw, Y_true)\n",
    "    Y_cor_over_true = np.divide(Y_cor, Y_true)\n",
    "    std_raw = np.std(Y_raw_over_true)\n",
    "    std_cor = np.std(Y_cor_over_true)\n",
    "    plt.hist(Y_cor_over_true, bins=200, range=(0,1.75), alpha=0.5, label='$E_{cor}$/$E_{true}$, $\\sigma$=%.2f'%std_raw)\n",
    "    plt.hist(Y_raw_over_true, bins=200, range=(0,1.75), alpha=0.5, label='$E_{raw}$/$E_{true}$, $\\sigma$=%.2f'%std_cor)\n",
    "    plt.legend(fontsize=13, loc='upper left')\n",
    "    plt.xlabel('E/$E_{true}$',horizontalalignment='right', x=1.0, fontsize=14, labelpad=6)\n",
    "    plt.ylabel('Events',horizontalalignment='right', y=1.0, fontsize=14, labelpad=6)\n",
    "    #plt.show()\n",
    "    plt.savefig('plots/'+plotname+'.pdf')\n",
    "    plt.savefig('plots/'+plotname+'.png')\n",
    "    \n",
    "plot_E_over_Etrue(Y_test_gamma1, Y_raw_test_gamma1, Y_predict_test_gamma1, \"EoverEtrue_gamma1\")\n"
   ]
  },
  {
   "cell_type": "code",
   "execution_count": null,
   "metadata": {},
   "outputs": [],
   "source": []
  }
 ],
 "metadata": {
  "kernelspec": {
   "display_name": "Python 3",
   "language": "python",
   "name": "python3"
  },
  "language_info": {
   "codemirror_mode": {
    "name": "ipython",
    "version": 3
   },
   "file_extension": ".py",
   "mimetype": "text/x-python",
   "name": "python",
   "nbconvert_exporter": "python",
   "pygments_lexer": "ipython3",
   "version": "3.7.1"
  }
 },
 "nbformat": 4,
 "nbformat_minor": 2
}
