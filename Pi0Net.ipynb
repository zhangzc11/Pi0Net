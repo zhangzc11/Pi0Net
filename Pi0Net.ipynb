{
 "cells": [
  {
   "cell_type": "code",
   "execution_count": 1,
   "metadata": {},
   "outputs": [
    {
     "name": "stdout",
     "output_type": "stream",
     "text": [
      "Welcome to JupyROOT 6.16/00\n"
     ]
    },
    {
     "name": "stderr",
     "output_type": "stream",
     "text": [
      "Using TensorFlow backend.\n"
     ]
    }
   ],
   "source": [
    "import os\n",
    "import matplotlib.pyplot as plt\n",
    "from sklearn.model_selection import train_test_split\n",
    "from sklearn.metrics import accuracy_score, roc_curve\n",
    "import root_pandas as rp\n",
    "import numpy as np\n",
    "import ROOT as root\n",
    "from keras.models import Sequential, Model\n",
    "from keras.layers import Dense, Activation, Dropout, Concatenate, concatenate\n",
    "from keras.layers import Conv2D, MaxPooling2D, Flatten, BatchNormalization, Input\n",
    "from keras import regularizers\n",
    "from scipy.optimize import curve_fit\n",
    "from xgboost import XGBRegressor\n",
    "import keras.backend as K"
   ]
  },
  {
   "cell_type": "markdown",
   "metadata": {},
   "source": [
    "## Step 1: read the root file and save it to Nx3x3x5 array"
   ]
  },
  {
   "cell_type": "code",
   "execution_count": 2,
   "metadata": {},
   "outputs": [],
   "source": [
    "def get_array_from_rootfile(inputFileName, treename):\n",
    "    inputFile = root.TFile(inputFileName)\n",
    "    variables_array = [\"STr2_ehitG_rec\", \"STr2_overlapG_rec\", \"STr2_gapG_rec\"]\n",
    "    variables_1d = [\"STr2_enG_rec\", \"STr2_enG_true\", \"STr2_iEtaiX\", \"STr2_iPhiiY\", \n",
    "                    \"STr2_Eta\", \"STr2_phi\", \"STr2_Nxtal\", \"STr2_S1S9\", \"STr2_S4S9\"]\n",
    "    tree = inputFile.Get(treename)\n",
    "    NEntries = tree.GetEntries()\n",
    "    print(\"Reading tree \"+treename+\", NEntries = \"+str(NEntries))\n",
    "    dfp = rp.read_root(inputFileName, key=treename, columns=variables_array+variables_1d, flatten=variables_array)\n",
    "    df = dfp.reindex(columns=variables_array+variables_1d)\n",
    "    arr_df = df.values\n",
    "    X = np.zeros((NEntries, 3, 3, 5))\n",
    "    X_dense = np.zeros((NEntries, 6))#Eraw, eta, phi, Nxtal, S1S9, S4S9\n",
    "    Y = np.zeros(NEntries)\n",
    "    Y_raw = np.zeros(NEntries)\n",
    "    for idx in range(NEntries):\n",
    "        temp = np.array([\n",
    "                [\n",
    "                  [arr_df[idx*9+8][0], arr_df[idx*9+7][0], arr_df[idx*9+6][0]],\n",
    "                  [arr_df[idx*9+5][0], arr_df[idx*9+4][0], arr_df[idx*9+3][0]],\n",
    "                  [arr_df[idx*9+2][0], arr_df[idx*9+1][0], arr_df[idx*9+0][0]]\n",
    "                ],\n",
    "\n",
    "                [\n",
    "                  [arr_df[idx*9+8][1], arr_df[idx*9+7][1], arr_df[idx*9+6][1]],\n",
    "                  [arr_df[idx*9+5][1], arr_df[idx*9+4][1], arr_df[idx*9+3][1]],\n",
    "                  [arr_df[idx*9+2][1], arr_df[idx*9+1][1], arr_df[idx*9+0][1]]\n",
    "                ],\n",
    "                [\n",
    "                  [arr_df[idx*9+8][2], arr_df[idx*9+7][2], arr_df[idx*9+6][2]],\n",
    "                  [arr_df[idx*9+5][2], arr_df[idx*9+4][2], arr_df[idx*9+3][2]],\n",
    "                  [arr_df[idx*9+2][2], arr_df[idx*9+1][2], arr_df[idx*9+0][2]]\n",
    "                ],\n",
    "                [\n",
    "                  [arr_df[idx*9+8][5]-1, arr_df[idx*9+7][5], arr_df[idx*9+6][5]+1],\n",
    "                  [arr_df[idx*9+5][5]-1, arr_df[idx*9+4][5], arr_df[idx*9+3][5]+1],\n",
    "                  [arr_df[idx*9+2][5]-1, arr_df[idx*9+1][5], arr_df[idx*9+0][5]+1]\n",
    "                ],\n",
    "                [\n",
    "                  [arr_df[idx*9+8][6]+1, arr_df[idx*9+7][6]+1, arr_df[idx*9+6][6]+1],\n",
    "                  [arr_df[idx*9+5][6], arr_df[idx*9+4][6], arr_df[idx*9+3][6]],\n",
    "                  [arr_df[idx*9+2][6]-1, arr_df[idx*9+1][6]-1, arr_df[idx*9+0][6]-1]\n",
    "                ]\n",
    "              ])\n",
    "        X[idx] = np.copy(np.rollaxis(temp, 0, 3))\n",
    "        Y[idx] = arr_df[idx*9][4]\n",
    "        X_dense[idx][0] = arr_df[idx*9][3]\n",
    "        X_dense[idx][1] = arr_df[idx*9][7]\n",
    "        X_dense[idx][2] = arr_df[idx*9][8]\n",
    "        X_dense[idx][3] = arr_df[idx*9][9]\n",
    "        X_dense[idx][4] = arr_df[idx*9][10]\n",
    "        X_dense[idx][5] = arr_df[idx*9][11]\n",
    "        Y_raw[idx] = arr_df[idx*9][3]\n",
    "        \n",
    "    return X, X_dense, Y, Y_raw"
   ]
  },
  {
   "cell_type": "code",
   "execution_count": 3,
   "metadata": {},
   "outputs": [
    {
     "name": "stdout",
     "output_type": "stream",
     "text": [
      "Reading tree Tree_Optim_train_gamma1, NEntries = 3538524\n"
     ]
    }
   ],
   "source": [
    "X_train_gamma1, X_train_dense_gamma1, Y_train_gamma1, Y_raw_train_gamma1= get_array_from_rootfile(\"data/photonNtuple_EB.root\", \"Tree_Optim_train_gamma1\")"
   ]
  },
  {
   "cell_type": "code",
   "execution_count": 4,
   "metadata": {},
   "outputs": [
    {
     "name": "stdout",
     "output_type": "stream",
     "text": [
      "Reading tree Tree_Optim_test_gamma1, NEntries = 624693\n"
     ]
    }
   ],
   "source": [
    "X_test_gamma1, X_test_dense_gamma1, Y_test_gamma1, Y_raw_test_gamma1 = get_array_from_rootfile(\"data/photonNtuple_EB.root\", \"Tree_Optim_test_gamma1\")"
   ]
  },
  {
   "cell_type": "code",
   "execution_count": 5,
   "metadata": {},
   "outputs": [
    {
     "name": "stdout",
     "output_type": "stream",
     "text": [
      "[[ 0.03335078  0.45519477  0.        ]\n",
      " [ 0.24990673 13.30865097  0.67051089]\n",
      " [ 0.3627376   4.11065817  3.77112699]]\n",
      "[[ 0.  0.  0.]\n",
      " [ 0.  0.  0.]\n",
      " [ 0. -1. -1.]]\n",
      "[[1.39999998 1.39999998 1.60000002]\n",
      " [1.39999998 1.39999998 1.60000002]\n",
      " [1.39999998 1.39999998 1.60000002]]\n",
      "[[-71. -70. -69.]\n",
      " [-71. -70. -69.]\n",
      " [-71. -70. -69.]]\n",
      "[[218. 218. 218.]\n",
      " [217. 217. 217.]\n",
      " [216. 216. 216.]]\n"
     ]
    }
   ],
   "source": [
    "for idx in range(len(X_train_gamma1[0,0,0,:])):\n",
    "    print(X_train_gamma1[0,:,:,idx])"
   ]
  },
  {
   "cell_type": "markdown",
   "metadata": {},
   "source": [
    "## Step2: basic visualization to see the data feature"
   ]
  },
  {
   "cell_type": "code",
   "execution_count": 6,
   "metadata": {},
   "outputs": [],
   "source": [
    "def plot_3x3map(hitmap, iEtaiX, iPhiiY, ETrue):\n",
    "    os.system('mkdir -p plots')\n",
    "    plt.clf()\n",
    "    ax = plt.subplot(1,1,1)\n",
    "    plt.imshow(hitmap, cmap=plt.cm.coolwarm, alpha=.9)#, extent=extent)\n",
    "    plt.xticks([0,1,2], fontsize=16)\n",
    "    plt.yticks([0,1,2], fontsize=16)\n",
    "    ax.set_xticklabels([\"%.0f\"%(iEtaiX-1),\"%.0f\"%(iEtaiX),\"%.0f\"%(iEtaiX+1)])\n",
    "    ax.set_yticklabels([\"%.0f\"%(iPhiiY+1),\"%.0f\"%(iPhiiY),\"%.0f\"%(iPhiiY-1)])\n",
    "    for i in range(3):\n",
    "        for j in range(3):\n",
    "            plt.text(i, j, \"%.2f\"%hitmap[j][i], ha=\"center\", va=\"center\", color=\"w\", fontsize=16)\n",
    "    EReco = np.sum(hitmap)\n",
    "    plt.title(\"$E_{reco}$/$E_{true}$ = %.2f/%.2f = %.2f\"%(EReco, ETrue, EReco/ETrue))\n",
    "    plt.xlabel('i$\\eta$',horizontalalignment='right', x=1.0, fontsize=14, labelpad=-17)\n",
    "    plt.ylabel('i$\\phi$',horizontalalignment='right', y=1.0, fontsize=14, labelpad=-17)\n",
    "    plt.savefig(\"plots/hitmap_seed_iEta%.0f_iPhi%.0f.pdf\"%(iEtaiX, iPhiiY))\n",
    "    plt.savefig(\"plots/hitmap_seed_iEta%.0f_iPhi%.0f.png\"%(iEtaiX, iPhiiY))\n",
    "    #plt.show()\n",
    "    \n",
    "    if EReco > 0:\n",
    "        plt.clf()\n",
    "        ax = plt.subplot(1,1,1)\n",
    "        plt.imshow(hitmap/EReco, cmap=plt.cm.coolwarm, alpha=.9)#, extent=extent)\n",
    "        plt.xticks([0,1,2], fontsize=16)\n",
    "        plt.yticks([0,1,2], fontsize=16)\n",
    "        ax.set_xticklabels([\"%.0f\"%(iEtaiX-1),\"%.0f\"%(iEtaiX),\"%.0f\"%(iEtaiX+1)])\n",
    "        ax.set_yticklabels([\"%.0f\"%(iPhiiY+1),\"%.0f\"%(iPhiiY),\"%.0f\"%(iPhiiY-1)])\n",
    "        for i in range(3):\n",
    "            for j in range(3):\n",
    "                plt.text(i, j, \"%.2f\"%(hitmap[j][i]/EReco), ha=\"center\", va=\"center\", color=\"w\", fontsize=16)\n",
    "        plt.title(\"$E_{reco}$/$E_{true}$ = %.2f/%.2f = %.2f\"%(EReco, ETrue, EReco/ETrue))\n",
    "        plt.xlabel('i$\\eta$',horizontalalignment='right', x=1.0, fontsize=14, labelpad=-17)\n",
    "        plt.ylabel('i$\\phi$',horizontalalignment='right', y=1.0, fontsize=14, labelpad=-17)\n",
    "        plt.savefig(\"plots/hitmap_ratio_seed_iEta%.0f_iPhi%.0f.pdf\"%(iEtaiX, iPhiiY))\n",
    "        plt.savefig(\"plots/hitmap_ratio_seed_iEta%.0f_iPhi%.0f.png\"%(iEtaiX, iPhiiY))\n",
    "        #plt.show()\n",
    "def plot_3x3map_iEta_constant(hitmap, iEtaiX, ETrue):\n",
    "    os.system('mkdir -p plots')\n",
    "    plt.clf()\n",
    "    ax = plt.subplot(1,1,1)\n",
    "    plt.imshow(hitmap, cmap=plt.cm.coolwarm, alpha=.9)#, extent=extent)\n",
    "    plt.xticks([0,1,2], fontsize=16)\n",
    "    plt.yticks([0,1,2], fontsize=16)\n",
    "    ax.set_xticklabels([\"%.0f\"%(iEtaiX-1),\"%.0f\"%(iEtaiX),\"%.0f\"%(iEtaiX+1)])\n",
    "    ax.set_yticklabels([\"Y+1\",\"Y\",\"Y-1\"])\n",
    "    for i in range(3):\n",
    "        for j in range(3):\n",
    "            plt.text(i, j, \"%.2f\"%hitmap[j][i], ha=\"center\", va=\"center\", color=\"w\", fontsize=16)\n",
    "    EReco = np.sum(hitmap)\n",
    "    plt.title(\"$E_{reco}$/$E_{true}$ = %.2f/%.2f = %.2f\"%(EReco, ETrue, EReco/ETrue))\n",
    "    plt.xlabel('i$\\eta$',horizontalalignment='right', x=1.0, fontsize=14, labelpad=-17)\n",
    "    plt.ylabel('i$\\phi$',horizontalalignment='right', y=1.0, fontsize=14, labelpad=-17)\n",
    "    plt.savefig(\"plots/hitmap_constant_seed_iEta%.0f.pdf\"%iEtaiX)\n",
    "    plt.savefig(\"plots/hitmap_constant_seed_iEta%.0f.png\"%iEtaiX)\n",
    "    #plt.show()\n",
    "    \n",
    "    if EReco > 0:\n",
    "        plt.clf()\n",
    "        ax = plt.subplot(1,1,1)\n",
    "        plt.imshow(hitmap/EReco, cmap=plt.cm.coolwarm, alpha=.9)#, extent=extent)\n",
    "        plt.xticks([0,1,2], fontsize=16)\n",
    "        plt.yticks([0,1,2], fontsize=16)\n",
    "        ax.set_xticklabels([\"%.0f\"%(iEtaiX-1),\"%.0f\"%(iEtaiX),\"%.0f\"%(iEtaiX+1)])\n",
    "        ax.set_yticklabels([\"Y+1\",\"Y\",\"Y-1\"])\n",
    "        for i in range(3):\n",
    "            for j in range(3):\n",
    "                plt.text(i, j, \"%.2f\"%(hitmap[j][i]/EReco), ha=\"center\", va=\"center\", color=\"w\", fontsize=16)\n",
    "        plt.title(\"$E_{reco}$/$E_{true}$ = %.2f/%.2f = %.2f\"%(EReco, ETrue, EReco/ETrue))\n",
    "        plt.xlabel('i$\\eta$',horizontalalignment='right', x=1.0, fontsize=14, labelpad=-17)\n",
    "        plt.ylabel('i$\\phi$',horizontalalignment='right', y=1.0, fontsize=14, labelpad=-17)\n",
    "        plt.savefig(\"plots/hitmap_ratio_constant_seed_iEta%.0f.pdf\"%iEtaiX)\n",
    "        plt.savefig(\"plots/hitmap_ratio_constant_seed_iEta%.0f.png\"%iEtaiX)\n",
    "        #plt.show() \n",
    "def plot_3x3map_iPhi_constant(hitmap, iPhiiY, ETrue):\n",
    "    os.system('mkdir -p plots')\n",
    "    plt.clf()\n",
    "    ax = plt.subplot(1,1,1)\n",
    "    plt.imshow(hitmap, cmap=plt.cm.coolwarm, alpha=.9)#, extent=extent)\n",
    "    plt.xticks([0,1,2], fontsize=16)\n",
    "    plt.yticks([0,1,2], fontsize=16)\n",
    "    ax.set_yticklabels([\"%.0f\"%(iPhiiY+1),\"%.0f\"%(iPhiiY),\"%.0f\"%(iPhiiY-1)])\n",
    "    ax.set_xticklabels([\"X+1\",\"X\",\"X-1\"])\n",
    "    for i in range(3):\n",
    "        for j in range(3):\n",
    "            plt.text(i, j, \"%.2f\"%hitmap[j][i], ha=\"center\", va=\"center\", color=\"w\", fontsize=16)\n",
    "    EReco = np.sum(hitmap)\n",
    "    plt.title(\"$E_{reco}$/$E_{true}$ = %.2f/%.2f = %.2f\"%(EReco, ETrue, EReco/ETrue))\n",
    "    plt.xlabel('i$\\eta$',horizontalalignment='right', x=1.0, fontsize=14, labelpad=-17)\n",
    "    plt.ylabel('i$\\phi$',horizontalalignment='right', y=1.0, fontsize=14, labelpad=-17)\n",
    "    plt.savefig(\"plots/hitmap_constant_seed_iPhi%.0f.pdf\"%iPhiiY)\n",
    "    plt.savefig(\"plots/hitmap_constant_seed_iPhi%.0f.png\"%iPhiiY)\n",
    "    #plt.show()\n",
    "    \n",
    "    if EReco > 0:\n",
    "        plt.clf()\n",
    "        ax = plt.subplot(1,1,1)\n",
    "        plt.imshow(hitmap/EReco, cmap=plt.cm.coolwarm, alpha=.9)#, extent=extent)\n",
    "        plt.xticks([0,1,2], fontsize=16)\n",
    "        plt.yticks([0,1,2], fontsize=16)\n",
    "        ax.set_yticklabels([\"%.0f\"%(iPhiiY+1),\"%.0f\"%(iPhiiY),\"%.0f\"%(iPhiiY-1)])\n",
    "        ax.set_xticklabels([\"X+1\",\"X\",\"X-1\"])\n",
    "        for i in range(3):\n",
    "            for j in range(3):\n",
    "                plt.text(i, j, \"%.2f\"%(hitmap[j][i]/EReco), ha=\"center\", va=\"center\", color=\"w\", fontsize=16)\n",
    "        plt.title(\"$E_{reco}$/$E_{true}$ = %.2f/%.2f = %.2f\"%(EReco, ETrue, EReco/ETrue))\n",
    "        plt.xlabel('i$\\eta$',horizontalalignment='right', x=1.0, fontsize=14, labelpad=-17)\n",
    "        plt.ylabel('i$\\phi$',horizontalalignment='right', y=1.0, fontsize=14, labelpad=-17)\n",
    "        plt.savefig(\"plots/hitmap_ratio_constant_seed_iPhi%.0f.pdf\"%iPhiiY)\n",
    "        plt.savefig(\"plots/hitmap_ratio_constant_seed_iPhi%.0f.png\"%iPhiiY)\n",
    "        #plt.show() \n",
    "        \n",
    "def plot_3x3gapmap(gapmap, iEtaiX, iPhiiY):\n",
    "    os.system('mkdir -p plots')\n",
    "    plt.clf()\n",
    "    ax = plt.subplot(1,1,1)\n",
    "    plt.imshow(gapmap, cmap=plt.cm.coolwarm, alpha=.9)#, extent=extent)\n",
    "    plt.xticks([0,1,2], fontsize=16)\n",
    "    plt.yticks([0,1,2], fontsize=16)\n",
    "    ax.set_xticklabels([\"%.0f\"%(iEtaiX-1),\"%.0f\"%(iEtaiX),\"%.0f\"%(iEtaiX+1)])\n",
    "    ax.set_yticklabels([\"%.0f\"%(iPhiiY+1),\"%.0f\"%(iPhiiY),\"%.0f\"%(iPhiiY-1)])\n",
    "    for i in range(3):\n",
    "        for j in range(3):\n",
    "            plt.text(i, j, \"%.2f\"%gapmap[j][i], ha=\"center\", va=\"center\", color=\"w\", fontsize=16)\n",
    "    plt.title(\"Gap Size [mm]\")\n",
    "    plt.xlabel('i$\\eta$',horizontalalignment='right', x=1.0, fontsize=14, labelpad=-17)\n",
    "    plt.ylabel('i$\\phi$',horizontalalignment='right', y=1.0, fontsize=14, labelpad=-17)\n",
    "    plt.savefig(\"plots/gapmap_seed_iEta%.0f_iPhi%.0f.pdf\"%(iEtaiX, iPhiiY))\n",
    "    plt.savefig(\"plots/gapmap_seed_iEta%.0f_iPhi%.0f.png\"%(iEtaiX, iPhiiY))\n",
    "    #plt.show()\n",
    "\n",
    "def average_map(iEta, iPhi, hitmap_all, ETrue_all, iEtaiX_all, iPhiiY_all):\n",
    "    hitmap = np.zeros((3,3))\n",
    "    ETrue = 0.0\n",
    "    if iEta < -84.5 or iEta > 84.5:\n",
    "        return hitmap, ETrue\n",
    "    if iPhi < 1.5 or iPhi > 359.5:\n",
    "        return hitmap, ETrue\n",
    "    num_total = 0\n",
    "    \n",
    "    for idx in range(len(hitmap_all)):\n",
    "        if iEtaiX_all[idx][1][1] == iEta and iPhiiY_all[idx][1][1] == iPhi:\n",
    "            #print(hitmap_all[idx])\n",
    "            num_total += 1\n",
    "            hitmap = np.copy(hitmap+hitmap_all[idx])\n",
    "            ETrue += ETrue_all[idx]\n",
    "    hitmap = hitmap/num_total\n",
    "    ETrue = ETrue/num_total\n",
    "    return hitmap, ETrue\n",
    "def average_map_iEta_constant(iEta, hitmap_all, ETrue_all, iEtaiX_all):\n",
    "    hitmap = np.zeros((3,3))\n",
    "    ETrue = 0.0\n",
    "    if iEta < -84.5 or iEta > 84.5:\n",
    "        return hitmap, ETrue\n",
    "    num_total = 0\n",
    "    for idx in range(len(hitmap_all)):\n",
    "        if iEtaiX_all[idx][1][1] == iEta:\n",
    "            num_total += 1\n",
    "            hitmap = np.copy(hitmap+hitmap_all[idx])\n",
    "            ETrue += ETrue_all[idx]\n",
    "    hitmap = hitmap/num_total\n",
    "    ETrue = ETrue/num_total\n",
    "    return hitmap, ETrue\n",
    "\n",
    "def average_map_iPhi_constant(iPhi, hitmap_all, ETrue_all, iPhiiY_all):\n",
    "    hitmap = np.zeros((3,3))\n",
    "    ETrue = 0.0\n",
    "    if iPhi < 1.5 or iPhi > 359.5:\n",
    "        return hitmap, ETrue\n",
    "    num_total = 0\n",
    "    \n",
    "    for idx in range(len(hitmap_all)):\n",
    "        if iPhiiY_all[idx][1][1] == iPhi:\n",
    "            num_total += 1\n",
    "            hitmap = np.copy(hitmap+hitmap_all[idx])\n",
    "            ETrue += ETrue_all[idx]\n",
    "    hitmap = hitmap/num_total\n",
    "    ETrue = ETrue/num_total\n",
    "    return hitmap, ETrue"
   ]
  },
  {
   "cell_type": "code",
   "execution_count": 7,
   "metadata": {},
   "outputs": [
    {
     "data": {
      "image/png": "[encoded data removed]",
      "text/plain": [
       "<Figure size 432x288 with 1 Axes>"
      ]
     },
     "metadata": {
      "needs_background": "light"
     },
     "output_type": "display_data"
    }
   ],
   "source": [
    "## plot hitmap for seed crystals in iEta iPhi of interest\n",
    "iEtaiPhi_interests = [[25,20], [24,20], [24,19], [23,18], \n",
    "                      [23,38], [23,58], [23,78],[23,98], \n",
    "                      [43,18], [63,18], [83,18]]\n",
    "index_interests = np.zeros(len(iEtaiPhi_interests), dtype=np.int32) - 999\n",
    "for idx1 in range(len(X_train_gamma1)):\n",
    "    allFound = True\n",
    "    for idx2 in range(len(index_interests)):\n",
    "        if X_train_gamma1[idx1,:,:,3][1][1] == iEtaiPhi_interests[idx2][0] and X_train_gamma1[idx1,:,:,4][1][1] == iEtaiPhi_interests[idx2][1]:\n",
    "            index_interests[idx2] = idx1\n",
    "        if index_interests[idx2] < 0:\n",
    "            allFound = False\n",
    "    if allFound:\n",
    "        break\n",
    "for idx in range(len(iEtaiPhi_interests)):\n",
    "    plot_3x3gapmap(X_train_gamma1[index_interests[idx],:,:,2],X_train_gamma1[index_interests[idx],:,:,3][1][1], X_train_gamma1[index_interests[idx],:,:,4][1][1])\n",
    "    hitmap_this, ETrue_this = average_map(iEtaiPhi_interests[idx][0],iEtaiPhi_interests[idx][1],X_train_gamma1[:,:,:,0], Y_train_gamma1, X_train_gamma1[:,:,:,3], X_train_gamma1[:,:,:,4])  \n",
    "    plot_3x3map(hitmap_this, iEtaiPhi_interests[idx][0],iEtaiPhi_interests[idx][1], ETrue_this)\n",
    "    \n",
    "## plot hitmap for seed crystals at constant iEta or iPhi\n",
    "iEta_interests = [25, 24, 23, 43, 63, 83]\n",
    "for idx in range(len(iEta_interests)):\n",
    "    hitmap_this, ETrue_this = average_map_iEta_constant(iEta_interests[idx],X_train_gamma1[:,:,:,0], Y_train_gamma1, X_train_gamma1[:,:,:,3])  \n",
    "    plot_3x3map_iEta_constant(hitmap_this, iEta_interests[idx], ETrue_this)\n",
    "iPhi_interests = [20, 19, 18, 38, 58, 88]\n",
    "for idx in range(len(iPhi_interests)):\n",
    "    hitmap_this, ETrue_this = average_map_iPhi_constant(iPhi_interests[idx],X_train_gamma1[:,:,:,0], Y_train_gamma1, X_train_gamma1[:,:,:,4])  \n",
    "    plot_3x3map_iPhi_constant(hitmap_this, iPhi_interests[idx], ETrue_this)"
   ]
  },
  {
   "cell_type": "markdown",
   "metadata": {},
   "source": [
    "## Step3: benchmark correction - E/Etrue method"
   ]
  },
  {
   "cell_type": "code",
   "execution_count": 8,
   "metadata": {},
   "outputs": [
    {
     "data": {
      "image/png": "[encoded data removed]",
      "text/plain": [
       "<Figure size 432x288 with 1 Axes>"
      ]
     },
     "metadata": {
      "needs_background": "light"
     },
     "output_type": "display_data"
    }
   ],
   "source": [
    "def getEoverEtrueMap(iEtaiX, iPhiiY, Etrue, Eraw): \n",
    "    map_cor = np.ones((170, 360)) ##barrel only\n",
    "    sum_cor = np.zeros((170, 360))\n",
    "    count_map = np.zeros((170, 360))\n",
    "    for idx in range(len(Etrue)):\n",
    "        if iEtaiX[idx] < -85 or iEtaiX[idx] > 85 or iEtaiX[idx] == 0:\n",
    "            continue\n",
    "        if iPhiiY[idx] < 1 or iPhiiY[idx] > 360:\n",
    "            continue\n",
    "        if Eraw[idx] <= 0.0:\n",
    "            continue\n",
    "        idx_ieta = 0\n",
    "        if iEtaiX[idx] < 0:\n",
    "            idx_ieta = int(iEtaiX[idx] + 85)\n",
    "        if iEtaiX[idx] > 0:\n",
    "            idx_ieta = int(iEtaiX[idx] + 84)\n",
    "        idx_iphi = int(iPhiiY[idx]-1) % 20\n",
    "        for iFold in range(18):\n",
    "            sum_cor[idx_ieta][idx_iphi+iFold*20] = sum_cor[idx_ieta][idx_iphi+iFold*20] + Etrue[idx]/Eraw[idx]\n",
    "            count_map[idx_ieta][idx_iphi+iFold*20] = count_map[idx_ieta][idx_iphi+iFold*20] +1.0\n",
    "    \n",
    "    for ix in range(170):\n",
    "        for iy in range(360):\n",
    "            if count_map[ix][iy] > 0:\n",
    "                map_cor[ix][iy] = sum_cor[ix][iy]/count_map[ix][iy]\n",
    "    return map_cor, count_map\n",
    "\n",
    "\n",
    "def gaussian(x, amp, cen, wid):\n",
    "    return amp * np.exp(-(x-cen)**2 / wid)\n",
    "\n",
    "def fitGaussian(x_list, makePlot = False, plotname = 'test'):\n",
    "    ydata, xdata_edges = np.histogram(x_list, bins = 20, range=(0.8, 1.1))\n",
    "    xdata = np.zeros(len(ydata))\n",
    "    for idx in range(len(ydata)):\n",
    "        xdata[idx] = (xdata_edges[idx]+xdata_edges[idx+1])*0.5\n",
    "    #print(xdata)\n",
    "    #print(ydata)\n",
    "    if ydata.max() < 6:\n",
    "        return [1.0,1.0,1.0]\n",
    "    try:\n",
    "        popt, pcov = curve_fit(gaussian, xdata, ydata, p0=[ydata.max(), 0.95, 0.05])\n",
    "        if makePlot:\n",
    "            plt.clf()\n",
    "            plt.plot(xdata, ydata, 'b-', label='data')\n",
    "            plt.plot(xdata, gaussian(xdata, *popt), 'r-',label='fit: a=%5.3f, b=%5.3f, c=%5.3f' % tuple(popt))\n",
    "            plt.savefig('plots/fits/'+plotname+'.png')\n",
    "            \n",
    "        return popt\n",
    "    except:\n",
    "        return [1.0,1.0,1.0]\n",
    "\n",
    "def getEoverEtrueMap_Fit(iEtaiX, iPhiiY, Etrue, Eraw): \n",
    "    map_cor = np.ones((170, 360)) ##barrel only\n",
    "    EoverEtrue = []\n",
    "    for idx1 in range(170):\n",
    "        EoverEtrue.append([])\n",
    "        for idx2 in range(20):\n",
    "            EoverEtrue[idx1].append([])\n",
    "        \n",
    "    for idx in range(len(Etrue)):\n",
    "        if iEtaiX[idx] < -85 or iEtaiX[idx] > 85 or iEtaiX[idx] == 0:\n",
    "            continue\n",
    "        if iPhiiY[idx] < 1 or iPhiiY[idx] > 360:\n",
    "            continue\n",
    "        if Etrue[idx] <= 0.0:\n",
    "            continue\n",
    "        idx_ieta = 0\n",
    "        if iEtaiX[idx] < 0:\n",
    "            idx_ieta = int(iEtaiX[idx] + 85)\n",
    "        if iEtaiX[idx] > 0:\n",
    "            idx_ieta = int(iEtaiX[idx] + 84)\n",
    "        idx_iphi = int(iPhiiY[idx]-1) % 20\n",
    "        EoverEtrue[idx_ieta][idx_iphi].append(Eraw[idx]/Etrue[idx])\n",
    "    \n",
    "    for ix in range(170):\n",
    "        for iy in range(20):\n",
    "            makePlot = False\n",
    "            if ix == 3:\n",
    "                makePlot = True\n",
    "            popt = fitGaussian(EoverEtrue[ix][iy], makePlot, 'ieta_'+str(ix)+'_iphi_'+str(iy))\n",
    "            if popt[1] > 0.0:\n",
    "                for iFold in range(18):\n",
    "                    map_cor[ix][iy+iFold*20] = 1.0/popt[1]\n",
    "            \n",
    "    return map_cor\n",
    "\n",
    "map_corr = getEoverEtrueMap_Fit(X_train_gamma1[:,1,1,3], X_train_gamma1[:,1,1,4], Y_train_gamma1, Y_raw_train_gamma1)\n"
   ]
  },
  {
   "cell_type": "code",
   "execution_count": 9,
   "metadata": {},
   "outputs": [],
   "source": [
    "def getCorrection(corr_map, iEtaiX, iPhiiY, Eraw):\n",
    "    Ecorr = np.copy(Eraw)\n",
    "    for idx in range(len(Eraw)):\n",
    "        if iEtaiX[idx] < -85 or iEtaiX[idx] > 85 or iEtaiX[idx] == 0:\n",
    "            continue\n",
    "        if iPhiiY[idx] < 1 or iPhiiY[idx] > 360:\n",
    "            continue\n",
    "        if Eraw[idx] <= 0.0:\n",
    "            continue\n",
    "        idx_ieta = 0\n",
    "        if iEtaiX[idx] < 0:\n",
    "            idx_ieta = int(iEtaiX[idx] + 85)\n",
    "        if iEtaiX[idx] > 0:\n",
    "            idx_ieta = int(iEtaiX[idx] + 84)\n",
    "        idx_iphi = int(iPhiiY[idx]-1)\n",
    "        Ecorr[idx] = Eraw[idx] * corr_map[idx_ieta][idx_iphi]\n",
    "    return Ecorr   \n",
    "Y_cor_test_gamma1 = getCorrection(map_corr, X_test_gamma1[:, 1, 1, 3], X_test_gamma1[:, 1, 1, 4], Y_raw_test_gamma1)"
   ]
  },
  {
   "cell_type": "markdown",
   "metadata": {},
   "source": [
    "## Step4: build and train the Pi0Net model"
   ]
  },
  {
   "cell_type": "code",
   "execution_count": 28,
   "metadata": {},
   "outputs": [
    {
     "name": "stdout",
     "output_type": "stream",
     "text": [
      "__________________________________________________________________________________________________\n",
      "Layer (type)                    Output Shape         Param #     Connected to                     \n",
      "==================================================================================================\n",
      "input_CNN (InputLayer)          (None, 3, 3, 3)      0                                            \n",
      "__________________________________________________________________________________________________\n",
      "conv2d_7 (Conv2D)               (None, 2, 2, 16)     208         input_CNN[0][0]                  \n",
      "__________________________________________________________________________________________________\n",
      "conv2d_8 (Conv2D)               (None, 3, 1, 16)     160         input_CNN[0][0]                  \n",
      "__________________________________________________________________________________________________\n",
      "conv2d_9 (Conv2D)               (None, 1, 3, 16)     160         input_CNN[0][0]                  \n",
      "__________________________________________________________________________________________________\n",
      "flatten_7 (Flatten)             (None, 64)           0           conv2d_7[0][0]                   \n",
      "__________________________________________________________________________________________________\n",
      "flatten_8 (Flatten)             (None, 48)           0           conv2d_8[0][0]                   \n",
      "__________________________________________________________________________________________________\n",
      "flatten_9 (Flatten)             (None, 48)           0           conv2d_9[0][0]                   \n",
      "__________________________________________________________________________________________________\n",
      "concatenate_5 (Concatenate)     (None, 160)          0           flatten_7[0][0]                  \n",
      "                                                                 flatten_8[0][0]                  \n",
      "                                                                 flatten_9[0][0]                  \n",
      "__________________________________________________________________________________________________\n",
      "dense_14 (Dense)                (None, 64)           10304       concatenate_5[0][0]              \n",
      "__________________________________________________________________________________________________\n",
      "input_Dense (InputLayer)        (None, 6)            0                                            \n",
      "__________________________________________________________________________________________________\n",
      "dense_15 (Dense)                (None, 16)           1040        dense_14[0][0]                   \n",
      "__________________________________________________________________________________________________\n",
      "dense_16 (Dense)                (None, 16)           112         input_Dense[0][0]                \n",
      "__________________________________________________________________________________________________\n",
      "concatenate_6 (Concatenate)     (None, 32)           0           dense_15[0][0]                   \n",
      "                                                                 dense_16[0][0]                   \n",
      "__________________________________________________________________________________________________\n",
      "dense_17 (Dense)                (None, 16)           528         concatenate_6[0][0]              \n",
      "__________________________________________________________________________________________________\n",
      "dense_18 (Dense)                (None, 1)            17          dense_17[0][0]                   \n",
      "==================================================================================================\n",
      "Total params: 12,529\n",
      "Trainable params: 12,529\n",
      "Non-trainable params: 0\n",
      "__________________________________________________________________________________________________\n",
      "Epoch 1/100\n",
      "3538524/3538524 [==============================] - 118s 33us/step - loss: 0.1350 - acc: 5.6521e-07\n",
      "Epoch 2/100\n",
      "3538524/3538524 [==============================] - 117s 33us/step - loss: 0.1293 - acc: 5.6521e-07\n",
      "Epoch 3/100\n",
      "3538524/3538524 [==============================] - 118s 33us/step - loss: 0.1283 - acc: 5.6521e-07\n",
      "Epoch 4/100\n",
      "3538524/3538524 [==============================] - 113s 32us/step - loss: 0.1278 - acc: 5.6521e-07\n",
      "Epoch 5/100\n",
      "3538524/3538524 [==============================] - 113s 32us/step - loss: 0.1275 - acc: 5.6521e-07\n",
      "Epoch 6/100\n",
      "3538524/3538524 [==============================] - 113s 32us/step - loss: 0.1273 - acc: 5.6521e-07\n",
      "Epoch 7/100\n",
      "3538524/3538524 [==============================] - 114s 32us/step - loss: 0.1272 - acc: 5.6521e-07\n",
      "Epoch 8/100\n",
      "3538524/3538524 [==============================] - 114s 32us/step - loss: 0.1271 - acc: 5.6521e-07\n",
      "Epoch 9/100\n",
      "3538524/3538524 [==============================] - 114s 32us/step - loss: 0.1270 - acc: 5.6521e-07\n",
      "Epoch 10/100\n",
      "3538524/3538524 [==============================] - 112s 32us/step - loss: 0.1269 - acc: 5.6521e-07\n",
      "Epoch 11/100\n",
      "3538524/3538524 [==============================] - 112s 32us/step - loss: 0.1269 - acc: 5.6521e-07\n",
      "Epoch 12/100\n",
      "3538524/3538524 [==============================] - 112s 32us/step - loss: 0.1268 - acc: 5.6521e-07\n",
      "Epoch 13/100\n",
      "3538524/3538524 [==============================] - 113s 32us/step - loss: 0.1268 - acc: 5.6521e-07\n",
      "Epoch 14/100\n",
      "3538524/3538524 [==============================] - 113s 32us/step - loss: 0.1267 - acc: 5.6521e-07\n",
      "Epoch 15/100\n",
      "3538524/3538524 [==============================] - 112s 32us/step - loss: 0.1266 - acc: 5.6521e-07\n",
      "Epoch 16/100\n",
      "3538524/3538524 [==============================] - 113s 32us/step - loss: 0.1266 - acc: 5.6521e-07\n",
      "Epoch 17/100\n",
      "3538524/3538524 [==============================] - 112s 32us/step - loss: 0.1266 - acc: 5.6521e-07\n",
      "Epoch 18/100\n",
      "3538524/3538524 [==============================] - 112s 32us/step - loss: 0.1265 - acc: 5.6521e-07\n",
      "Epoch 19/100\n",
      "3538524/3538524 [==============================] - 112s 32us/step - loss: 0.1265 - acc: 5.6521e-07\n",
      "Epoch 20/100\n",
      "3538524/3538524 [==============================] - 113s 32us/step - loss: 0.1265 - acc: 5.6521e-07\n",
      "Epoch 21/100\n",
      "3538524/3538524 [==============================] - 111s 31us/step - loss: 0.1264 - acc: 5.6521e-07\n",
      "Epoch 22/100\n",
      "3538524/3538524 [==============================] - 112s 32us/step - loss: 0.1264 - acc: 5.6521e-07\n",
      "Epoch 23/100\n",
      "3538524/3538524 [==============================] - 111s 31us/step - loss: 0.1264 - acc: 5.6521e-07\n",
      "Epoch 24/100\n",
      "3538524/3538524 [==============================] - 112s 32us/step - loss: 0.1263 - acc: 5.6521e-07\n",
      "Epoch 25/100\n",
      "3538524/3538524 [==============================] - 112s 32us/step - loss: 0.1263 - acc: 5.6521e-07\n",
      "Epoch 26/100\n",
      "3538524/3538524 [==============================] - 112s 32us/step - loss: 0.1263 - acc: 5.6521e-07\n",
      "Epoch 27/100\n",
      "3538524/3538524 [==============================] - 111s 31us/step - loss: 0.1263 - acc: 5.6521e-07\n",
      "Epoch 28/100\n",
      "3538524/3538524 [==============================] - 111s 31us/step - loss: 0.1263 - acc: 5.6521e-07\n",
      "Epoch 29/100\n",
      "3538524/3538524 [==============================] - 111s 31us/step - loss: 0.1262 - acc: 5.6521e-07\n",
      "Epoch 30/100\n",
      "3538524/3538524 [==============================] - 111s 31us/step - loss: 0.1263 - acc: 5.6521e-07\n",
      "Epoch 31/100\n",
      "3538524/3538524 [==============================] - 112s 32us/step - loss: 0.1262 - acc: 5.6521e-07\n",
      "Epoch 32/100\n",
      "3538524/3538524 [==============================] - 111s 31us/step - loss: 0.1262 - acc: 5.6521e-07\n",
      "Epoch 33/100\n",
      "3538524/3538524 [==============================] - 116s 33us/step - loss: 0.1262 - acc: 5.6521e-07\n",
      "Epoch 34/100\n",
      "3538524/3538524 [==============================] - 115s 33us/step - loss: 0.1262 - acc: 5.6521e-07\n",
      "Epoch 35/100\n",
      "3538524/3538524 [==============================] - 115s 33us/step - loss: 0.1262 - acc: 5.6521e-07\n",
      "Epoch 36/100\n",
      "3538524/3538524 [==============================] - 116s 33us/step - loss: 0.1262 - acc: 5.6521e-07\n",
      "Epoch 37/100\n",
      "3538524/3538524 [==============================] - 117s 33us/step - loss: 0.1262 - acc: 5.6521e-07\n",
      "Epoch 38/100\n",
      "3538524/3538524 [==============================] - 116s 33us/step - loss: 0.1262 - acc: 5.6521e-07\n",
      "Epoch 39/100\n",
      "3538524/3538524 [==============================] - 116s 33us/step - loss: 0.1262 - acc: 5.6521e-07\n",
      "Epoch 40/100\n"
     ]
    },
    {
     "name": "stdout",
     "output_type": "stream",
     "text": [
      "3538524/3538524 [==============================] - 114s 32us/step - loss: 0.1261 - acc: 5.6521e-07\n",
      "Epoch 41/100\n",
      "3538524/3538524 [==============================] - 115s 33us/step - loss: 0.1262 - acc: 5.6521e-07\n",
      "Epoch 42/100\n",
      "3538524/3538524 [==============================] - 116s 33us/step - loss: 0.1261 - acc: 5.6521e-07\n",
      "Epoch 43/100\n",
      "3538524/3538524 [==============================] - 118s 33us/step - loss: 0.1261 - acc: 5.6521e-07\n",
      "Epoch 44/100\n",
      "3538524/3538524 [==============================] - 116s 33us/step - loss: 0.1261 - acc: 5.6521e-07\n",
      "Epoch 45/100\n",
      "3538524/3538524 [==============================] - 116s 33us/step - loss: 0.1261 - acc: 5.6521e-07\n",
      "Epoch 46/100\n",
      "3538524/3538524 [==============================] - 115s 33us/step - loss: 0.1261 - acc: 5.6521e-07\n",
      "Epoch 47/100\n",
      "3538524/3538524 [==============================] - 116s 33us/step - loss: 0.1261 - acc: 5.6521e-07\n",
      "Epoch 48/100\n",
      "3538524/3538524 [==============================] - 116s 33us/step - loss: 0.1261 - acc: 5.6521e-07\n",
      "Epoch 49/100\n",
      "3538524/3538524 [==============================] - 117s 33us/step - loss: 0.1261 - acc: 5.6521e-07\n",
      "Epoch 50/100\n",
      "3538524/3538524 [==============================] - 116s 33us/step - loss: 0.1261 - acc: 5.6521e-07\n",
      "Epoch 51/100\n",
      "3538524/3538524 [==============================] - 116s 33us/step - loss: 0.1261 - acc: 5.6521e-07\n",
      "Epoch 52/100\n",
      "3538524/3538524 [==============================] - 116s 33us/step - loss: 0.1261 - acc: 5.6521e-07\n",
      "Epoch 53/100\n",
      "3538524/3538524 [==============================] - 116s 33us/step - loss: 0.1261 - acc: 5.6521e-07\n",
      "Epoch 54/100\n",
      "3538524/3538524 [==============================] - 116s 33us/step - loss: 0.1261 - acc: 5.6521e-07\n",
      "Epoch 55/100\n",
      "3538524/3538524 [==============================] - 117s 33us/step - loss: 0.1261 - acc: 5.6521e-07\n",
      "Epoch 56/100\n",
      "3538524/3538524 [==============================] - 116s 33us/step - loss: 0.1261 - acc: 5.6521e-07\n",
      "Epoch 57/100\n",
      "3538524/3538524 [==============================] - 116s 33us/step - loss: 0.1261 - acc: 5.6521e-07\n",
      "Epoch 58/100\n",
      "3538524/3538524 [==============================] - 116s 33us/step - loss: 0.1261 - acc: 5.6521e-07\n",
      "Epoch 59/100\n",
      "3538524/3538524 [==============================] - 115s 33us/step - loss: 0.1261 - acc: 5.6521e-07\n",
      "Epoch 60/100\n",
      "3538524/3538524 [==============================] - 116s 33us/step - loss: 0.1261 - acc: 5.6521e-07\n",
      "Epoch 61/100\n",
      "3538524/3538524 [==============================] - 116s 33us/step - loss: 0.1261 - acc: 5.6521e-07\n",
      "Epoch 62/100\n",
      "3538524/3538524 [==============================] - 115s 33us/step - loss: 0.1261 - acc: 5.6521e-07\n",
      "Epoch 63/100\n",
      "3538524/3538524 [==============================] - 116s 33us/step - loss: 0.1261 - acc: 5.6521e-07\n",
      "Epoch 64/100\n",
      "3538524/3538524 [==============================] - 116s 33us/step - loss: 0.1261 - acc: 5.6521e-07\n",
      "Epoch 65/100\n",
      "3538524/3538524 [==============================] - 115s 33us/step - loss: 0.1261 - acc: 5.6521e-07\n",
      "Epoch 66/100\n",
      "3538524/3538524 [==============================] - 115s 33us/step - loss: 0.1261 - acc: 5.6521e-07\n",
      "Epoch 67/100\n",
      "3538524/3538524 [==============================] - 116s 33us/step - loss: 0.1260 - acc: 5.6521e-07\n",
      "Epoch 68/100\n",
      "3538524/3538524 [==============================] - 114s 32us/step - loss: 0.1260 - acc: 5.6521e-07\n",
      "Epoch 69/100\n",
      "3538524/3538524 [==============================] - 115s 33us/step - loss: 0.1260 - acc: 5.6521e-07\n",
      "Epoch 70/100\n",
      "3538524/3538524 [==============================] - 116s 33us/step - loss: 0.1260 - acc: 5.6521e-07\n",
      "Epoch 71/100\n",
      "3538524/3538524 [==============================] - 116s 33us/step - loss: 0.1260 - acc: 5.6521e-07\n",
      "Epoch 72/100\n",
      "3538524/3538524 [==============================] - 117s 33us/step - loss: 0.1260 - acc: 5.6521e-07\n",
      "Epoch 73/100\n",
      "3538524/3538524 [==============================] - 117s 33us/step - loss: 0.1260 - acc: 5.6521e-07\n",
      "Epoch 74/100\n",
      "3538524/3538524 [==============================] - 116s 33us/step - loss: 0.1260 - acc: 5.6521e-07\n",
      "Epoch 75/100\n",
      "3538524/3538524 [==============================] - 116s 33us/step - loss: 0.1260 - acc: 5.6521e-07\n",
      "Epoch 76/100\n",
      "3538524/3538524 [==============================] - 115s 33us/step - loss: 0.1260 - acc: 5.6521e-07\n",
      "Epoch 77/100\n",
      "3538524/3538524 [==============================] - 116s 33us/step - loss: 0.1260 - acc: 5.6521e-07\n",
      "Epoch 78/100\n",
      "3538524/3538524 [==============================] - 116s 33us/step - loss: 0.1260 - acc: 5.6521e-07\n",
      "Epoch 79/100\n",
      "3538524/3538524 [==============================] - 116s 33us/step - loss: 0.1260 - acc: 5.6521e-07\n",
      "Epoch 80/100\n",
      "3538524/3538524 [==============================] - 115s 33us/step - loss: 0.1260 - acc: 5.6521e-07\n",
      "Epoch 81/100\n",
      "3538524/3538524 [==============================] - 115s 32us/step - loss: 0.1260 - acc: 5.6521e-07\n",
      "Epoch 82/100\n",
      "3538524/3538524 [==============================] - 115s 33us/step - loss: 0.1260 - acc: 5.6521e-07\n",
      "Epoch 83/100\n",
      "3538524/3538524 [==============================] - 116s 33us/step - loss: 0.1260 - acc: 5.6521e-07\n",
      "Epoch 84/100\n",
      "3538524/3538524 [==============================] - 117s 33us/step - loss: 0.1260 - acc: 5.6521e-07\n",
      "Epoch 85/100\n",
      "3538524/3538524 [==============================] - 116s 33us/step - loss: 0.1260 - acc: 5.6521e-07\n",
      "Epoch 86/100\n",
      "3538524/3538524 [==============================] - 116s 33us/step - loss: 0.1260 - acc: 5.6521e-07\n",
      "Epoch 87/100\n",
      "3538524/3538524 [==============================] - 116s 33us/step - loss: 0.1260 - acc: 5.6521e-07\n",
      "Epoch 88/100\n",
      "3538524/3538524 [==============================] - 115s 33us/step - loss: 0.1260 - acc: 5.6521e-07\n",
      "Epoch 89/100\n",
      "3538524/3538524 [==============================] - 116s 33us/step - loss: 0.1260 - acc: 5.6521e-07\n",
      "Epoch 90/100\n",
      "3538524/3538524 [==============================] - 117s 33us/step - loss: 0.1260 - acc: 5.6521e-07\n",
      "Epoch 91/100\n",
      "3538524/3538524 [==============================] - 116s 33us/step - loss: 0.1260 - acc: 5.6521e-07\n",
      "Epoch 92/100\n",
      "3538524/3538524 [==============================] - 116s 33us/step - loss: 0.1260 - acc: 5.6521e-07\n",
      "Epoch 93/100\n",
      "3538524/3538524 [==============================] - 116s 33us/step - loss: 0.1260 - acc: 5.6521e-07\n",
      "Epoch 94/100\n",
      "3538524/3538524 [==============================] - 116s 33us/step - loss: 0.1260 - acc: 5.6521e-07\n",
      "Epoch 95/100\n",
      "3538524/3538524 [==============================] - 117s 33us/step - loss: 0.1260 - acc: 5.6521e-07\n",
      "Epoch 96/100\n",
      "3538524/3538524 [==============================] - 116s 33us/step - loss: 0.1260 - acc: 5.6521e-07\n",
      "Epoch 97/100\n",
      "3538524/3538524 [==============================] - 116s 33us/step - loss: 0.1260 - acc: 5.6521e-07\n",
      "Epoch 98/100\n",
      "3538524/3538524 [==============================] - 116s 33us/step - loss: 0.1260 - acc: 5.6521e-07\n",
      "Epoch 99/100\n",
      "3538524/3538524 [==============================] - 115s 33us/step - loss: 0.1260 - acc: 5.6521e-07\n",
      "Epoch 100/100\n",
      "3538524/3538524 [==============================] - 116s 33us/step - loss: 0.1260 - acc: 5.6521e-07\n"
     ]
    }
   ],
   "source": [
    "#x_train, x_valid, y_train, y_valid = train_test_split(X_train_gamma1, Y_train_gamma1, test_size=0.2, random_state=1992)\n",
    "def getPi0Net():\n",
    "    input_CNN = Input(shape=(3,3,3), name='input_CNN')\n",
    "    input_Dense = Input(shape=(6,), name='input_Dense')\n",
    "\n",
    "    model1 = Conv2D(16, (2, 2), padding='valid', activation='relu')(input_CNN)\n",
    "    model1_out = Flatten()(model1)\n",
    "\n",
    "    model2 = Conv2D(16, (1, 3), padding='valid', activation='relu')(input_CNN)\n",
    "    model2_out = Flatten()(model2)\n",
    "\n",
    "    model3 = Conv2D(16, (3, 1), padding='valid', activation='relu')(input_CNN)\n",
    "    model3_out = Flatten()(model3)\n",
    "\n",
    "    model_con1 = concatenate([model1_out, model2_out, model3_out])\n",
    "\n",
    "    model_con1 = Dense(64, activation='relu')(model_con1)\n",
    "    model_con1 = Dense(16, activation='relu')(model_con1)\n",
    "\n",
    "    model_dense1 = Dense(16, activation='relu')(input_Dense)\n",
    "    \n",
    "    model_con2 = concatenate([model_con1, model_dense1])\n",
    "    model_con2 = Dense(16, activation='relu')(model_con2)\n",
    "    main_output = Dense(1)(model_con2)\n",
    "\n",
    "    model = Model(inputs=[input_CNN,input_Dense], outputs=main_output)\n",
    "\n",
    "    model.compile(optimizer='Adam',\n",
    "                  loss='mean_absolute_error',\n",
    "                  metrics=['accuracy'])\n",
    "    return model\n",
    "\n",
    "model = getPi0Net()\n",
    "model.summary()\n",
    "result_model = model.fit([X_train_gamma1[:,:,:,:3],X_train_dense_gamma1], np.divide(Y_raw_train_gamma1, Y_train_gamma1), epochs=100, batch_size=32)\n",
    "#model.fit(x_train, y_train, epochs=10, batch_size=32, validation_data=(x_valid, y_valid))"
   ]
  },
  {
   "cell_type": "code",
   "execution_count": 45,
   "metadata": {},
   "outputs": [
    {
     "data": {
      "image/png": "[encoded data removed]",
      "text/plain": [
       "<Figure size 432x288 with 1 Axes>"
      ]
     },
     "metadata": {
      "needs_background": "light"
     },
     "output_type": "display_data"
    }
   ],
   "source": [
    "plt.plot(result_model.history['loss'])\n",
    "#plt.plot(result_model.history['val_loss'])\n",
    "plt.title('model loss')\n",
    "plt.ylabel('loss')\n",
    "plt.xlabel('epoch')\n",
    "plt.legend(['train', 'test'], loc='upper left')\n",
    "plt.show()"
   ]
  },
  {
   "cell_type": "code",
   "execution_count": 29,
   "metadata": {},
   "outputs": [
    {
     "name": "stdout",
     "output_type": "stream",
     "text": [
      "__________________________________________________________________________________________________\n",
      "Layer (type)                    Output Shape         Param #     Connected to                     \n",
      "==================================================================================================\n",
      "input_CNN (InputLayer)          (None, 3, 3, 3)      0                                            \n",
      "__________________________________________________________________________________________________\n",
      "conv2d_10 (Conv2D)              (None, 2, 2, 16)     208         input_CNN[0][0]                  \n",
      "__________________________________________________________________________________________________\n",
      "conv2d_11 (Conv2D)              (None, 3, 1, 16)     160         input_CNN[0][0]                  \n",
      "__________________________________________________________________________________________________\n",
      "conv2d_12 (Conv2D)              (None, 1, 3, 16)     160         input_CNN[0][0]                  \n",
      "__________________________________________________________________________________________________\n",
      "flatten_10 (Flatten)            (None, 64)           0           conv2d_10[0][0]                  \n",
      "__________________________________________________________________________________________________\n",
      "flatten_11 (Flatten)            (None, 48)           0           conv2d_11[0][0]                  \n",
      "__________________________________________________________________________________________________\n",
      "flatten_12 (Flatten)            (None, 48)           0           conv2d_12[0][0]                  \n",
      "__________________________________________________________________________________________________\n",
      "concatenate_7 (Concatenate)     (None, 160)          0           flatten_10[0][0]                 \n",
      "                                                                 flatten_11[0][0]                 \n",
      "                                                                 flatten_12[0][0]                 \n",
      "__________________________________________________________________________________________________\n",
      "dense_19 (Dense)                (None, 64)           10304       concatenate_7[0][0]              \n",
      "__________________________________________________________________________________________________\n",
      "input_Dense (InputLayer)        (None, 6)            0                                            \n",
      "__________________________________________________________________________________________________\n",
      "dense_20 (Dense)                (None, 16)           1040        dense_19[0][0]                   \n",
      "__________________________________________________________________________________________________\n",
      "dense_21 (Dense)                (None, 16)           112         input_Dense[0][0]                \n",
      "__________________________________________________________________________________________________\n",
      "concatenate_8 (Concatenate)     (None, 32)           0           dense_20[0][0]                   \n",
      "                                                                 dense_21[0][0]                   \n",
      "__________________________________________________________________________________________________\n",
      "dense_22 (Dense)                (None, 16)           528         concatenate_8[0][0]              \n",
      "__________________________________________________________________________________________________\n",
      "dense_23 (Dense)                (None, 1)            17          dense_22[0][0]                   \n",
      "==================================================================================================\n",
      "Total params: 12,529\n",
      "Trainable params: 12,529\n",
      "Non-trainable params: 0\n",
      "__________________________________________________________________________________________________\n",
      "Epoch 1/100\n",
      "3538524/3538524 [==============================] - 118s 33us/step - loss: 1.7190 - acc: 0.0000e+00\n",
      "Epoch 2/100\n",
      "3538524/3538524 [==============================] - 118s 33us/step - loss: 1.6420 - acc: 2.8260e-07\n",
      "Epoch 3/100\n",
      "3538524/3538524 [==============================] - 116s 33us/step - loss: 1.6289 - acc: 0.0000e+00\n",
      "Epoch 4/100\n",
      "3538524/3538524 [==============================] - 117s 33us/step - loss: 1.6224 - acc: 0.0000e+00\n",
      "Epoch 5/100\n",
      "3538524/3538524 [==============================] - 117s 33us/step - loss: 1.6184 - acc: 2.8260e-07\n",
      "Epoch 6/100\n",
      "3538524/3538524 [==============================] - 117s 33us/step - loss: 1.6156 - acc: 2.8260e-07\n",
      "Epoch 7/100\n",
      "3538524/3538524 [==============================] - 117s 33us/step - loss: 1.6134 - acc: 2.8260e-07\n",
      "Epoch 8/100\n",
      "3538524/3538524 [==============================] - 116s 33us/step - loss: 1.6114 - acc: 2.8260e-07\n",
      "Epoch 9/100\n",
      "3538524/3538524 [==============================] - 116s 33us/step - loss: 1.6100 - acc: 2.8260e-07\n",
      "Epoch 10/100\n",
      "3538524/3538524 [==============================] - 115s 33us/step - loss: 1.6090 - acc: 2.8260e-07\n",
      "Epoch 11/100\n",
      "3538524/3538524 [==============================] - 116s 33us/step - loss: 1.6077 - acc: 2.8260e-07\n",
      "Epoch 12/100\n",
      "3538524/3538524 [==============================] - 116s 33us/step - loss: 1.6073 - acc: 2.8260e-07\n",
      "Epoch 13/100\n",
      "3538524/3538524 [==============================] - 116s 33us/step - loss: 1.6064 - acc: 2.8260e-07\n",
      "Epoch 14/100\n",
      "3538524/3538524 [==============================] - 115s 33us/step - loss: 1.6058 - acc: 2.8260e-07\n",
      "Epoch 15/100\n",
      "3538524/3538524 [==============================] - 116s 33us/step - loss: 1.6051 - acc: 2.8260e-07\n",
      "Epoch 16/100\n",
      "3538524/3538524 [==============================] - 115s 33us/step - loss: 1.6047 - acc: 0.0000e+00\n",
      "Epoch 17/100\n",
      "3538524/3538524 [==============================] - 115s 33us/step - loss: 1.6042 - acc: 2.8260e-07\n",
      "Epoch 18/100\n",
      "3538524/3538524 [==============================] - 116s 33us/step - loss: 1.6039 - acc: 2.8260e-07\n",
      "Epoch 19/100\n",
      "3538524/3538524 [==============================] - 116s 33us/step - loss: 1.6035 - acc: 2.8260e-070s - loss: 1.6036 - acc\n",
      "Epoch 20/100\n",
      "3538524/3538524 [==============================] - 114s 32us/step - loss: 1.6032 - acc: 0.0000e+00\n",
      "Epoch 21/100\n",
      "3538524/3538524 [==============================] - 114s 32us/step - loss: 1.6030 - acc: 2.8260e-07\n",
      "Epoch 22/100\n",
      "3538524/3538524 [==============================] - 114s 32us/step - loss: 1.6023 - acc: 2.8260e-07\n",
      "Epoch 23/100\n",
      "3538524/3538524 [==============================] - 114s 32us/step - loss: 1.6026 - acc: 2.8260e-07\n",
      "Epoch 24/100\n",
      "3538524/3538524 [==============================] - 114s 32us/step - loss: 1.6021 - acc: 2.8260e-07\n",
      "Epoch 25/100\n",
      "3538524/3538524 [==============================] - 114s 32us/step - loss: 1.6019 - acc: 0.0000e+00\n",
      "Epoch 26/100\n",
      "3538524/3538524 [==============================] - 114s 32us/step - loss: 1.6017 - acc: 0.0000e+00\n",
      "Epoch 27/100\n",
      "3538524/3538524 [==============================] - 114s 32us/step - loss: 1.6016 - acc: 2.8260e-07\n",
      "Epoch 28/100\n",
      "3538524/3538524 [==============================] - 114s 32us/step - loss: 1.6014 - acc: 0.0000e+00\n",
      "Epoch 29/100\n",
      "3538524/3538524 [==============================] - 114s 32us/step - loss: 1.6013 - acc: 2.8260e-07\n",
      "Epoch 30/100\n",
      "3538524/3538524 [==============================] - 114s 32us/step - loss: 1.6010 - acc: 2.8260e-07\n",
      "Epoch 31/100\n",
      "3538524/3538524 [==============================] - 114s 32us/step - loss: 1.6008 - acc: 2.8260e-07\n",
      "Epoch 32/100\n",
      "3538524/3538524 [==============================] - 113s 32us/step - loss: 1.6008 - acc: 2.8260e-07\n",
      "Epoch 33/100\n",
      "3538524/3538524 [==============================] - 118s 33us/step - loss: 1.6006 - acc: 2.8260e-07\n",
      "Epoch 34/100\n",
      "3538524/3538524 [==============================] - 118s 33us/step - loss: 1.6002 - acc: 2.8260e-07\n",
      "Epoch 35/100\n",
      "3538524/3538524 [==============================] - 117s 33us/step - loss: 1.6003 - acc: 2.8260e-07\n",
      "Epoch 36/100\n",
      "3538524/3538524 [==============================] - 119s 34us/step - loss: 1.5999 - acc: 2.8260e-07\n",
      "Epoch 37/100\n",
      "3538524/3538524 [==============================] - 118s 33us/step - loss: 1.6001 - acc: 0.0000e+00\n",
      "Epoch 38/100\n",
      "3538524/3538524 [==============================] - 119s 33us/step - loss: 1.5997 - acc: 0.0000e+00\n",
      "Epoch 39/100\n",
      "3538524/3538524 [==============================] - 119s 33us/step - loss: 1.5997 - acc: 2.8260e-07\n",
      "Epoch 40/100\n"
     ]
    },
    {
     "name": "stdout",
     "output_type": "stream",
     "text": [
      "3538524/3538524 [==============================] - 118s 33us/step - loss: 1.5995 - acc: 2.8260e-07\n",
      "Epoch 41/100\n",
      "3538524/3538524 [==============================] - 119s 34us/step - loss: 1.5993 - acc: 2.8260e-07\n",
      "Epoch 42/100\n",
      "3538524/3538524 [==============================] - 119s 34us/step - loss: 1.5993 - acc: 2.8260e-07\n",
      "Epoch 43/100\n",
      "3538524/3538524 [==============================] - 118s 33us/step - loss: 1.5994 - acc: 2.8260e-07\n",
      "Epoch 44/100\n",
      "3538524/3538524 [==============================] - 118s 33us/step - loss: 1.5992 - acc: 2.8260e-07\n",
      "Epoch 45/100\n",
      "3538524/3538524 [==============================] - 118s 33us/step - loss: 1.5991 - acc: 2.8260e-07\n",
      "Epoch 46/100\n",
      "3538524/3538524 [==============================] - 118s 33us/step - loss: 1.5989 - acc: 2.8260e-07\n",
      "Epoch 47/100\n",
      "3538524/3538524 [==============================] - 119s 34us/step - loss: 1.5989 - acc: 2.8260e-07\n",
      "Epoch 48/100\n",
      "3538524/3538524 [==============================] - 119s 34us/step - loss: 1.5986 - acc: 2.8260e-07\n",
      "Epoch 49/100\n",
      "3538524/3538524 [==============================] - 118s 33us/step - loss: 1.5986 - acc: 2.8260e-07\n",
      "Epoch 50/100\n",
      "3538524/3538524 [==============================] - 118s 33us/step - loss: 1.5987 - acc: 2.8260e-07\n",
      "Epoch 51/100\n",
      "3538524/3538524 [==============================] - 119s 33us/step - loss: 1.5985 - acc: 2.8260e-07\n",
      "Epoch 52/100\n",
      "3538524/3538524 [==============================] - 119s 34us/step - loss: 1.5985 - acc: 2.8260e-07\n",
      "Epoch 53/100\n",
      "3538524/3538524 [==============================] - 119s 34us/step - loss: 1.5983 - acc: 2.8260e-07\n",
      "Epoch 54/100\n",
      "3538524/3538524 [==============================] - 119s 34us/step - loss: 1.5984 - acc: 2.8260e-07\n",
      "Epoch 55/100\n",
      "3538524/3538524 [==============================] - 119s 34us/step - loss: 1.5982 - acc: 2.8260e-07\n",
      "Epoch 56/100\n",
      "3538524/3538524 [==============================] - 119s 34us/step - loss: 1.5980 - acc: 2.8260e-07\n",
      "Epoch 57/100\n",
      "3538524/3538524 [==============================] - 118s 33us/step - loss: 1.5983 - acc: 2.8260e-07\n",
      "Epoch 58/100\n",
      "3538524/3538524 [==============================] - 119s 34us/step - loss: 1.5983 - acc: 2.8260e-07\n",
      "Epoch 59/100\n",
      "3538524/3538524 [==============================] - 120s 34us/step - loss: 1.5983 - acc: 2.8260e-07\n",
      "Epoch 60/100\n",
      "3538524/3538524 [==============================] - 120s 34us/step - loss: 1.5983 - acc: 2.8260e-07\n",
      "Epoch 61/100\n",
      "3538524/3538524 [==============================] - 118s 33us/step - loss: 1.5980 - acc: 2.8260e-07\n",
      "Epoch 62/100\n",
      "3538524/3538524 [==============================] - 118s 33us/step - loss: 1.5980 - acc: 2.8260e-07\n",
      "Epoch 63/100\n",
      "3538524/3538524 [==============================] - 118s 33us/step - loss: 1.5981 - acc: 2.8260e-07\n",
      "Epoch 64/100\n",
      "3538524/3538524 [==============================] - 119s 34us/step - loss: 1.5980 - acc: 2.8260e-07\n",
      "Epoch 65/100\n",
      "3538524/3538524 [==============================] - 119s 34us/step - loss: 1.5979 - acc: 2.8260e-07\n",
      "Epoch 66/100\n",
      "3538524/3538524 [==============================] - 117s 33us/step - loss: 1.5979 - acc: 2.8260e-07\n",
      "Epoch 67/100\n",
      "3538524/3538524 [==============================] - 118s 33us/step - loss: 1.5977 - acc: 2.8260e-07\n",
      "Epoch 68/100\n",
      "3538524/3538524 [==============================] - 119s 34us/step - loss: 1.5977 - acc: 2.8260e-07\n",
      "Epoch 69/100\n",
      "3538524/3538524 [==============================] - 118s 33us/step - loss: 1.5977 - acc: 2.8260e-07\n",
      "Epoch 70/100\n",
      "3538524/3538524 [==============================] - 119s 34us/step - loss: 1.5975 - acc: 2.8260e-07\n",
      "Epoch 71/100\n",
      "3538524/3538524 [==============================] - 119s 34us/step - loss: 1.5976 - acc: 2.8260e-07\n",
      "Epoch 72/100\n",
      "3538524/3538524 [==============================] - 118s 33us/step - loss: 1.5975 - acc: 2.8260e-07\n",
      "Epoch 73/100\n",
      "3538524/3538524 [==============================] - 118s 33us/step - loss: 1.5973 - acc: 2.8260e-07\n",
      "Epoch 74/100\n",
      "3538524/3538524 [==============================] - 118s 33us/step - loss: 1.5974 - acc: 2.8260e-07\n",
      "Epoch 75/100\n",
      "3538524/3538524 [==============================] - 119s 34us/step - loss: 1.5976 - acc: 2.8260e-07\n",
      "Epoch 76/100\n",
      "3538524/3538524 [==============================] - 119s 34us/step - loss: 1.5975 - acc: 2.8260e-07\n",
      "Epoch 77/100\n",
      "3538524/3538524 [==============================] - 118s 33us/step - loss: 1.5973 - acc: 2.8260e-07\n",
      "Epoch 78/100\n",
      "3538524/3538524 [==============================] - 119s 34us/step - loss: 1.5971 - acc: 2.8260e-07\n",
      "Epoch 79/100\n",
      "3538524/3538524 [==============================] - 118s 33us/step - loss: 1.5971 - acc: 2.8260e-07\n",
      "Epoch 80/100\n",
      "3538524/3538524 [==============================] - 118s 33us/step - loss: 1.5971 - acc: 2.8260e-07\n",
      "Epoch 81/100\n",
      "3538524/3538524 [==============================] - 118s 33us/step - loss: 1.5970 - acc: 2.8260e-07\n",
      "Epoch 82/100\n",
      "3538524/3538524 [==============================] - 119s 34us/step - loss: 1.5969 - acc: 2.8260e-07\n",
      "Epoch 83/100\n",
      "3538524/3538524 [==============================] - 118s 33us/step - loss: 1.5969 - acc: 2.8260e-07\n",
      "Epoch 84/100\n",
      "3538524/3538524 [==============================] - 118s 33us/step - loss: 1.5968 - acc: 2.8260e-07\n",
      "Epoch 85/100\n",
      "3538524/3538524 [==============================] - 118s 33us/step - loss: 1.5969 - acc: 2.8260e-07\n",
      "Epoch 86/100\n",
      "3538524/3538524 [==============================] - 119s 34us/step - loss: 1.5972 - acc: 2.8260e-07\n",
      "Epoch 87/100\n",
      "3538524/3538524 [==============================] - 120s 34us/step - loss: 1.5971 - acc: 2.8260e-07\n",
      "Epoch 88/100\n",
      "3538524/3538524 [==============================] - 119s 34us/step - loss: 1.5968 - acc: 2.8260e-07\n",
      "Epoch 89/100\n",
      "3538524/3538524 [==============================] - 119s 34us/step - loss: 1.5968 - acc: 2.8260e-07\n",
      "Epoch 90/100\n",
      "3538524/3538524 [==============================] - 118s 33us/step - loss: 1.5964 - acc: 2.8260e-07\n",
      "Epoch 91/100\n",
      "3538524/3538524 [==============================] - 118s 33us/step - loss: 1.5968 - acc: 2.8260e-07\n",
      "Epoch 92/100\n",
      "3538524/3538524 [==============================] - 118s 33us/step - loss: 1.5969 - acc: 2.8260e-07\n",
      "Epoch 93/100\n",
      "3538524/3538524 [==============================] - 119s 34us/step - loss: 1.5964 - acc: 2.8260e-07\n",
      "Epoch 94/100\n",
      "3538524/3538524 [==============================] - 119s 34us/step - loss: 1.5965 - acc: 2.8260e-07\n",
      "Epoch 95/100\n",
      "3538524/3538524 [==============================] - 119s 34us/step - loss: 1.5966 - acc: 2.8260e-07\n",
      "Epoch 96/100\n",
      "3538524/3538524 [==============================] - 119s 33us/step - loss: 1.5966 - acc: 2.8260e-07\n",
      "Epoch 97/100\n",
      "3538524/3538524 [==============================] - 118s 33us/step - loss: 1.5965 - acc: 2.8260e-07\n",
      "Epoch 98/100\n",
      "3538524/3538524 [==============================] - 119s 34us/step - loss: 1.5966 - acc: 2.8260e-07\n",
      "Epoch 99/100\n",
      "3538524/3538524 [==============================] - 119s 34us/step - loss: 1.5962 - acc: 2.8260e-07\n",
      "Epoch 100/100\n",
      "3538524/3538524 [==============================] - 118s 33us/step - loss: 1.5966 - acc: 2.8260e-07\n"
     ]
    }
   ],
   "source": [
    "model2 = getPi0Net()\n",
    "model2.summary()\n",
    "result_model2 = model2.fit([X_train_gamma1[:,:,:,:3],X_train_dense_gamma1], Y_train_gamma1, epochs=100, batch_size=32)"
   ]
  },
  {
   "cell_type": "code",
   "execution_count": 46,
   "metadata": {},
   "outputs": [
    {
     "data": {
      "image/png": "[encoded data removed]",
      "text/plain": [
       "<Figure size 432x288 with 1 Axes>"
      ]
     },
     "metadata": {
      "needs_background": "light"
     },
     "output_type": "display_data"
    }
   ],
   "source": [
    "plt.plot(result_model2.history['loss'])\n",
    "#plt.plot(result_model2.history['val_loss'])\n",
    "plt.title('model loss')\n",
    "plt.ylabel('loss')\n",
    "plt.xlabel('epoch')\n",
    "plt.legend(['train', 'test'], loc='upper left')\n",
    "plt.show()"
   ]
  },
  {
   "cell_type": "code",
   "execution_count": 30,
   "metadata": {},
   "outputs": [
    {
     "name": "stdout",
     "output_type": "stream",
     "text": [
      "_________________________________________________________________\n",
      "Layer (type)                 Output Shape              Param #   \n",
      "=================================================================\n",
      "input_Dense (InputLayer)     (None, 6)                 0         \n",
      "_________________________________________________________________\n",
      "dense_24 (Dense)             (None, 16)                112       \n",
      "_________________________________________________________________\n",
      "dense_25 (Dense)             (None, 8)                 136       \n",
      "_________________________________________________________________\n",
      "dense_26 (Dense)             (None, 1)                 9         \n",
      "=================================================================\n",
      "Total params: 257\n",
      "Trainable params: 257\n",
      "Non-trainable params: 0\n",
      "_________________________________________________________________\n",
      "Epoch 1/100\n",
      "3538524/3538524 [==============================] - 85s 24us/step - loss: 1.9782 - acc: 0.0000e+00\n",
      "Epoch 2/100\n",
      "3538524/3538524 [==============================] - 86s 24us/step - loss: 1.9101 - acc: 0.0000e+00\n",
      "Epoch 3/100\n",
      "3538524/3538524 [==============================] - 83s 23us/step - loss: 1.9042 - acc: 0.0000e+00\n",
      "Epoch 4/100\n",
      "3538524/3538524 [==============================] - 87s 24us/step - loss: 1.9018 - acc: 0.0000e+00\n",
      "Epoch 5/100\n",
      "3538524/3538524 [==============================] - 85s 24us/step - loss: 1.8999 - acc: 0.0000e+00\n",
      "Epoch 6/100\n",
      "3538524/3538524 [==============================] - 86s 24us/step - loss: 1.8988 - acc: 0.0000e+00\n",
      "Epoch 7/100\n",
      "3538524/3538524 [==============================] - 83s 23us/step - loss: 1.8979 - acc: 0.0000e+00\n",
      "Epoch 8/100\n",
      "3538524/3538524 [==============================] - 83s 23us/step - loss: 1.8973 - acc: 0.0000e+00\n",
      "Epoch 9/100\n",
      "3538524/3538524 [==============================] - 86s 24us/step - loss: 1.8967 - acc: 0.0000e+00\n",
      "Epoch 10/100\n",
      "3538524/3538524 [==============================] - 83s 23us/step - loss: 1.8962 - acc: 0.0000e+00\n",
      "Epoch 11/100\n",
      "3538524/3538524 [==============================] - 81s 23us/step - loss: 1.8958 - acc: 0.0000e+00\n",
      "Epoch 12/100\n",
      "3538524/3538524 [==============================] - 86s 24us/step - loss: 1.8953 - acc: 0.0000e+00\n",
      "Epoch 13/100\n",
      "3538524/3538524 [==============================] - 82s 23us/step - loss: 1.8949 - acc: 0.0000e+00\n",
      "Epoch 14/100\n",
      "3538524/3538524 [==============================] - 86s 24us/step - loss: 1.8946 - acc: 0.0000e+00\n",
      "Epoch 15/100\n",
      "3538524/3538524 [==============================] - 83s 23us/step - loss: 1.8940 - acc: 0.0000e+00\n",
      "Epoch 16/100\n",
      "3538524/3538524 [==============================] - 84s 24us/step - loss: 1.8936 - acc: 0.0000e+00\n",
      "Epoch 17/100\n",
      "3538524/3538524 [==============================] - 86s 24us/step - loss: 1.8931 - acc: 0.0000e+00\n",
      "Epoch 18/100\n",
      "3538524/3538524 [==============================] - 81s 23us/step - loss: 1.8927 - acc: 0.0000e+00\n",
      "Epoch 19/100\n",
      "3538524/3538524 [==============================] - 85s 24us/step - loss: 1.8919 - acc: 0.0000e+00\n",
      "Epoch 20/100\n",
      "3538524/3538524 [==============================] - 82s 23us/step - loss: 1.8913 - acc: 0.0000e+00\n",
      "Epoch 21/100\n",
      "3538524/3538524 [==============================] - 84s 24us/step - loss: 1.8909 - acc: 0.0000e+00\n",
      "Epoch 22/100\n",
      "3538524/3538524 [==============================] - 86s 24us/step - loss: 1.8906 - acc: 0.0000e+00\n",
      "Epoch 23/100\n",
      "3538524/3538524 [==============================] - 81s 23us/step - loss: 1.8902 - acc: 0.0000e+00\n",
      "Epoch 24/100\n",
      "3538524/3538524 [==============================] - 85s 24us/step - loss: 1.8895 - acc: 0.0000e+00\n",
      "Epoch 25/100\n",
      "3538524/3538524 [==============================] - 84s 24us/step - loss: 1.8891 - acc: 0.0000e+00\n",
      "Epoch 26/100\n",
      "3538524/3538524 [==============================] - 81s 23us/step - loss: 1.8891 - acc: 0.0000e+00\n",
      "Epoch 27/100\n",
      "3538524/3538524 [==============================] - 84s 24us/step - loss: 1.8888 - acc: 0.0000e+00\n",
      "Epoch 28/100\n",
      "3538524/3538524 [==============================] - 81s 23us/step - loss: 1.8886 - acc: 0.0000e+00\n",
      "Epoch 29/100\n",
      "3538524/3538524 [==============================] - 83s 24us/step - loss: 1.8884 - acc: 0.0000e+00\n",
      "Epoch 30/100\n",
      "3538524/3538524 [==============================] - 84s 24us/step - loss: 1.8883 - acc: 0.0000e+00\n",
      "Epoch 31/100\n",
      "3538524/3538524 [==============================] - 80s 23us/step - loss: 1.8880 - acc: 0.0000e+00\n",
      "Epoch 32/100\n",
      "3538524/3538524 [==============================] - 83s 23us/step - loss: 1.8878 - acc: 0.0000e+00\n",
      "Epoch 33/100\n",
      "3538524/3538524 [==============================] - 82s 23us/step - loss: 1.8877 - acc: 0.0000e+00\n",
      "Epoch 34/100\n",
      "3538524/3538524 [==============================] - 81s 23us/step - loss: 1.8875 - acc: 0.0000e+00\n",
      "Epoch 35/100\n",
      "3538524/3538524 [==============================] - 82s 23us/step - loss: 1.8874 - acc: 0.0000e+00\n",
      "Epoch 36/100\n",
      "3538524/3538524 [==============================] - 80s 23us/step - loss: 1.8874 - acc: 0.0000e+00\n",
      "Epoch 37/100\n",
      "3538524/3538524 [==============================] - 81s 23us/step - loss: 1.8872 - acc: 0.0000e+00\n",
      "Epoch 38/100\n",
      "3538524/3538524 [==============================] - 83s 23us/step - loss: 1.8872 - acc: 0.0000e+00\n",
      "Epoch 39/100\n",
      "3538524/3538524 [==============================] - 80s 23us/step - loss: 1.8871 - acc: 0.0000e+00\n",
      "Epoch 40/100\n",
      "3538524/3538524 [==============================] - 80s 23us/step - loss: 1.8872 - acc: 0.0000e+00\n",
      "Epoch 41/100\n",
      "3538524/3538524 [==============================] - 82s 23us/step - loss: 1.8870 - acc: 0.0000e+00\n",
      "Epoch 42/100\n",
      "3538524/3538524 [==============================] - 78s 22us/step - loss: 1.8870 - acc: 0.0000e+00\n",
      "Epoch 43/100\n",
      "3538524/3538524 [==============================] - 82s 23us/step - loss: 1.8868 - acc: 0.0000e+00\n",
      "Epoch 44/100\n",
      "3538524/3538524 [==============================] - 81s 23us/step - loss: 1.8868 - acc: 0.0000e+00\n",
      "Epoch 45/100\n",
      "3538524/3538524 [==============================] - 79s 22us/step - loss: 1.8867 - acc: 0.0000e+00\n",
      "Epoch 46/100\n",
      "3538524/3538524 [==============================] - 87s 25us/step - loss: 1.8866 - acc: 0.0000e+00\n",
      "Epoch 47/100\n",
      "3538524/3538524 [==============================] - 85s 24us/step - loss: 1.8866 - acc: 0.0000e+00\n",
      "Epoch 48/100\n",
      "3538524/3538524 [==============================] - 83s 24us/step - loss: 1.8866 - acc: 0.0000e+00\n",
      "Epoch 49/100\n",
      "3538524/3538524 [==============================] - 87s 25us/step - loss: 1.8865 - acc: 0.0000e+00\n",
      "Epoch 50/100\n",
      "3538524/3538524 [==============================] - 82s 23us/step - loss: 1.8865 - acc: 0.0000e+00\n",
      "Epoch 51/100\n",
      "3538524/3538524 [==============================] - 87s 25us/step - loss: 1.8863 - acc: 0.0000e+00\n",
      "Epoch 52/100\n",
      "3538524/3538524 [==============================] - 83s 24us/step - loss: 1.8863 - acc: 0.0000e+00\n",
      "Epoch 53/100\n",
      "3538524/3538524 [==============================] - 87s 24us/step - loss: 1.8862 - acc: 0.0000e+00\n",
      "Epoch 54/100\n",
      "3538524/3538524 [==============================] - 87s 25us/step - loss: 1.8862 - acc: 0.0000e+00\n",
      "Epoch 55/100\n",
      "3538524/3538524 [==============================] - 84s 24us/step - loss: 1.8860 - acc: 0.0000e+00\n",
      "Epoch 56/100\n",
      "3538524/3538524 [==============================] - 87s 25us/step - loss: 1.8861 - acc: 0.0000e+00\n",
      "Epoch 57/100\n",
      "3538524/3538524 [==============================] - 82s 23us/step - loss: 1.8858 - acc: 0.0000e+00\n",
      "Epoch 58/100\n",
      "3538524/3538524 [==============================] - 86s 24us/step - loss: 1.8859 - acc: 0.0000e+00\n",
      "Epoch 59/100\n",
      "3538524/3538524 [==============================] - 83s 24us/step - loss: 1.8857 - acc: 0.0000e+00\n",
      "Epoch 60/100\n",
      "3538524/3538524 [==============================] - 85s 24us/step - loss: 1.8858 - acc: 0.0000e+00\n",
      "Epoch 61/100\n",
      "3538524/3538524 [==============================] - 87s 25us/step - loss: 1.8858 - acc: 0.0000e+00\n",
      "Epoch 62/100\n",
      "3538524/3538524 [==============================] - 82s 23us/step - loss: 1.8857 - acc: 0.0000e+00\n",
      "Epoch 63/100\n",
      "3538524/3538524 [==============================] - 88s 25us/step - loss: 1.8856 - acc: 0.0000e+00\n",
      "Epoch 64/100\n",
      "3538524/3538524 [==============================] - 83s 24us/step - loss: 1.8856 - acc: 0.0000e+00\n",
      "Epoch 65/100\n",
      "3538524/3538524 [==============================] - 85s 24us/step - loss: 1.8857 - acc: 0.0000e+00\n",
      "Epoch 66/100\n",
      "3538524/3538524 [==============================] - 84s 24us/step - loss: 1.8855 - acc: 0.0000e+00\n",
      "Epoch 67/100\n"
     ]
    },
    {
     "name": "stdout",
     "output_type": "stream",
     "text": [
      "3538524/3538524 [==============================] - 83s 23us/step - loss: 1.8854 - acc: 0.0000e+00\n",
      "Epoch 68/100\n",
      "3538524/3538524 [==============================] - 88s 25us/step - loss: 1.8854 - acc: 0.0000e+00\n",
      "Epoch 69/100\n",
      "3538524/3538524 [==============================] - 82s 23us/step - loss: 1.8855 - acc: 0.0000e+00\n",
      "Epoch 70/100\n",
      "3538524/3538524 [==============================] - 88s 25us/step - loss: 1.8854 - acc: 0.0000e+00\n",
      "Epoch 71/100\n",
      "3538524/3538524 [==============================] - 86s 24us/step - loss: 1.8854 - acc: 0.0000e+00\n",
      "Epoch 72/100\n",
      "3538524/3538524 [==============================] - 84s 24us/step - loss: 1.8853 - acc: 0.0000e+00\n",
      "Epoch 73/100\n",
      "3538524/3538524 [==============================] - 87s 24us/step - loss: 1.8853 - acc: 0.0000e+00\n",
      "Epoch 74/100\n",
      "3538524/3538524 [==============================] - 83s 23us/step - loss: 1.8852 - acc: 0.0000e+00\n",
      "Epoch 75/100\n",
      "3538524/3538524 [==============================] - 87s 25us/step - loss: 1.8852 - acc: 0.0000e+00\n",
      "Epoch 76/100\n",
      "3538524/3538524 [==============================] - 82s 23us/step - loss: 1.8852 - acc: 0.0000e+00\n",
      "Epoch 77/100\n",
      "3538524/3538524 [==============================] - 87s 25us/step - loss: 1.8850 - acc: 0.0000e+00\n",
      "Epoch 78/100\n",
      "3538524/3538524 [==============================] - 87s 25us/step - loss: 1.8849 - acc: 0.0000e+00\n",
      "Epoch 79/100\n",
      "3538524/3538524 [==============================] - 83s 23us/step - loss: 1.8850 - acc: 0.0000e+00\n",
      "Epoch 80/100\n",
      "3538524/3538524 [==============================] - 88s 25us/step - loss: 1.8850 - acc: 0.0000e+00\n",
      "Epoch 81/100\n",
      "3538524/3538524 [==============================] - 82s 23us/step - loss: 1.8849 - acc: 0.0000e+00\n",
      "Epoch 82/100\n",
      "3538524/3538524 [==============================] - 87s 25us/step - loss: 1.8850 - acc: 0.0000e+00\n",
      "Epoch 83/100\n",
      "3538524/3538524 [==============================] - 84s 24us/step - loss: 1.8848 - acc: 0.0000e+00\n",
      "Epoch 84/100\n",
      "3538524/3538524 [==============================] - 83s 23us/step - loss: 1.8847 - acc: 0.0000e+00\n",
      "Epoch 85/100\n",
      "3538524/3538524 [==============================] - 87s 25us/step - loss: 1.8848 - acc: 0.0000e+00\n",
      "Epoch 86/100\n",
      "3538524/3538524 [==============================] - 83s 23us/step - loss: 1.8845 - acc: 0.0000e+00\n",
      "Epoch 87/100\n",
      "3538524/3538524 [==============================] - 86s 24us/step - loss: 1.8845 - acc: 0.0000e+00\n",
      "Epoch 88/100\n",
      "3538524/3538524 [==============================] - 84s 24us/step - loss: 1.8845 - acc: 0.0000e+00\n",
      "Epoch 89/100\n",
      "3538524/3538524 [==============================] - 85s 24us/step - loss: 1.8846 - acc: 0.0000e+00\n",
      "Epoch 90/100\n",
      "3538524/3538524 [==============================] - 85s 24us/step - loss: 1.8845 - acc: 0.0000e+00\n",
      "Epoch 91/100\n",
      "3538524/3538524 [==============================] - 84s 24us/step - loss: 1.8844 - acc: 0.0000e+00\n",
      "Epoch 92/100\n",
      "3538524/3538524 [==============================] - 87s 25us/step - loss: 1.8844 - acc: 0.0000e+00\n",
      "Epoch 93/100\n",
      "3538524/3538524 [==============================] - 83s 23us/step - loss: 1.8844 - acc: 0.0000e+00\n",
      "Epoch 94/100\n",
      "3538524/3538524 [==============================] - 87s 25us/step - loss: 1.8844 - acc: 0.0000e+00\n",
      "Epoch 95/100\n",
      "3538524/3538524 [==============================] - 84s 24us/step - loss: 1.8843 - acc: 0.0000e+00\n",
      "Epoch 96/100\n",
      "3538524/3538524 [==============================] - 84s 24us/step - loss: 1.8844 - acc: 0.0000e+00\n",
      "Epoch 97/100\n",
      "3538524/3538524 [==============================] - 87s 24us/step - loss: 1.8843 - acc: 0.0000e+00\n",
      "Epoch 98/100\n",
      "3538524/3538524 [==============================] - 82s 23us/step - loss: 1.8844 - acc: 0.0000e+00\n",
      "Epoch 99/100\n",
      "3538524/3538524 [==============================] - 85s 24us/step - loss: 1.8844 - acc: 0.0000e+00\n",
      "Epoch 100/100\n",
      "3538524/3538524 [==============================] - 84s 24us/step - loss: 1.8842 - acc: 0.0000e+00\n"
     ]
    }
   ],
   "source": [
    "\n",
    "def getDenseNet():\n",
    "    input_Dense = Input(shape=(6,), name='input_Dense')\n",
    "    model_dense1 = Dense(16, activation='relu')(input_Dense)\n",
    "    model_dense2 = Dense(8, activation='relu')(model_dense1)\n",
    "    main_output = Dense(1)(model_dense2)\n",
    "\n",
    "    model = Model(inputs=[input_Dense], outputs=main_output)\n",
    "\n",
    "    model.compile(optimizer='Adam',\n",
    "                  loss='mean_absolute_error',\n",
    "                  metrics=['accuracy'])\n",
    "    return model\n",
    "model_dense = getDenseNet()\n",
    "model_dense.summary()\n",
    "result_model_dense = model_dense.fit([X_train_dense_gamma1], Y_train_gamma1, epochs=100, batch_size=32)"
   ]
  },
  {
   "cell_type": "code",
   "execution_count": 47,
   "metadata": {},
   "outputs": [
    {
     "data": {
      "image/png": "[encoded data removed]",
      "text/plain": [
       "<Figure size 432x288 with 1 Axes>"
      ]
     },
     "metadata": {
      "needs_background": "light"
     },
     "output_type": "display_data"
    }
   ],
   "source": [
    "plt.plot(result_model_dense.history['loss'])\n",
    "#plt.plot(result_model_dense.history['val_loss'])\n",
    "plt.title('model loss')\n",
    "plt.ylabel('loss')\n",
    "plt.xlabel('epoch')\n",
    "plt.legend(['train', 'test'], loc='upper left')\n",
    "plt.show()"
   ]
  },
  {
   "cell_type": "code",
   "execution_count": 13,
   "metadata": {},
   "outputs": [
    {
     "data": {
      "text/plain": [
       "XGBRegressor(base_score=0.5, booster='gbtree', colsample_bylevel=1,\n",
       "       colsample_bytree=1, gamma=0, importance_type='gain',\n",
       "       learning_rate=0.1, max_delta_step=0, max_depth=3,\n",
       "       min_child_weight=1, missing=None, n_estimators=100, n_jobs=1,\n",
       "       nthread=None, objective='reg:linear', random_state=0, reg_alpha=0,\n",
       "       reg_lambda=1, scale_pos_weight=1, seed=None, silent=True,\n",
       "       subsample=1)"
      ]
     },
     "execution_count": 13,
     "metadata": {},
     "output_type": "execute_result"
    }
   ],
   "source": [
    "## decision tree\n",
    "\n",
    "model_xgboost = XGBRegressor()\n",
    "model_xgboost.fit(X_train_dense_gamma1, Y_train_gamma1)"
   ]
  },
  {
   "cell_type": "code",
   "execution_count": 31,
   "metadata": {},
   "outputs": [
    {
     "name": "stdout",
     "output_type": "stream",
     "text": [
      "[19.02309418 16.09029198  5.26825333  5.6262455  13.66391468  5.51411963\n",
      "  5.22126102 15.73054218 13.03283596  9.44814587]\n"
     ]
    }
   ],
   "source": [
    "print(Y_raw_test_gamma1[:10])"
   ]
  },
  {
   "cell_type": "code",
   "execution_count": 32,
   "metadata": {},
   "outputs": [
    {
     "name": "stdout",
     "output_type": "stream",
     "text": [
      "[17.083008  17.007511   6.615055  ...  7.9204154  6.368197  11.069525 ]\n"
     ]
    }
   ],
   "source": [
    "Y_predict_xgboost_test_gamma1 = model_xgboost.predict(X_test_dense_gamma1)\n",
    "print(Y_predict_xgboost_test_gamma1)"
   ]
  },
  {
   "cell_type": "code",
   "execution_count": 33,
   "metadata": {},
   "outputs": [
    {
     "name": "stdout",
     "output_type": "stream",
     "text": [
      "[19.78750575 13.2715733   5.3266678   6.07211162 13.72169851 13.3877027\n",
      "  5.61601993 16.22606276 13.83364765  9.66565222]\n"
     ]
    }
   ],
   "source": [
    "EoverEtrue_predict_test_gamma1 = model.predict([X_test_gamma1[:,:,:,:3], X_test_dense_gamma1]).flatten()\n",
    "Y_predict_test_gamma1 = np.divide(Y_raw_test_gamma1, EoverEtrue_predict_test_gamma1)\n",
    "print(Y_predict_test_gamma1[:10])"
   ]
  },
  {
   "cell_type": "code",
   "execution_count": 34,
   "metadata": {},
   "outputs": [
    {
     "name": "stdout",
     "output_type": "stream",
     "text": [
      "[19.52756   13.181158   5.3793683  5.9520226 13.653341  16.280735\n",
      "  5.7013793 16.163157  13.772257   9.18182  ]\n"
     ]
    }
   ],
   "source": [
    "Y_predict_model2_test_gamma1 = model2.predict([X_test_gamma1[:,:,:,:3], X_test_dense_gamma1]).flatten()\n",
    "print(Y_predict_model2_test_gamma1[:10])"
   ]
  },
  {
   "cell_type": "code",
   "execution_count": 35,
   "metadata": {},
   "outputs": [
    {
     "name": "stdout",
     "output_type": "stream",
     "text": [
      "[16.233952  16.643929   5.5802984  6.176365   9.791723  14.607727\n",
      "  5.631589  16.4139    11.717102   9.16927  ]\n"
     ]
    }
   ],
   "source": [
    "Y_predict_dense_test_gamma1 = model_dense.predict([X_test_dense_gamma1]).flatten()\n",
    "print(Y_predict_dense_test_gamma1[:10])"
   ]
  },
  {
   "cell_type": "code",
   "execution_count": 36,
   "metadata": {},
   "outputs": [
    {
     "name": "stdout",
     "output_type": "stream",
     "text": [
      "[20.06212425 12.81198978  5.43744421  6.06228495 10.71784306 19.00874138\n",
      "  6.65722895 16.41085815 13.98484993  9.68479061]\n"
     ]
    }
   ],
   "source": [
    "print(Y_test_gamma1[:10])"
   ]
  },
  {
   "cell_type": "markdown",
   "metadata": {},
   "source": [
    "## Step 4: plot the energy response before and after correction"
   ]
  },
  {
   "cell_type": "code",
   "execution_count": 37,
   "metadata": {},
   "outputs": [],
   "source": [
    "def effSigma(a):\n",
    "    #input: an array\n",
    "    #output: the smallest width which contains 68.3% of the distribution\n",
    "    rlim = 0.683\n",
    "    quantile_scan = np.arange(0.0, 1-rlim, 0.001)\n",
    "    min_width = a.max() - a.min()\n",
    "    for q in quantile_scan:\n",
    "        aLeft = np.quantile(a, q)\n",
    "        aRight = np.quantile(a, q+rlim)\n",
    "        if aRight - aLeft < min_width:\n",
    "            min_width = aRight - aLeft\n",
    "    return min_width"
   ]
  },
  {
   "cell_type": "code",
   "execution_count": 38,
   "metadata": {},
   "outputs": [],
   "source": [
    "def plot_E_over_Etrue(Y_true, Y_raw, Y_cor, plotname):\n",
    "    plt.clf()\n",
    "    Y_raw_over_true = []\n",
    "    Y_cor_over_true = []\n",
    "    Y_raw_over_true = np.divide(Y_raw, Y_true)\n",
    "    Y_cor_over_true = np.divide(Y_cor, Y_true)\n",
    "    std_raw = np.std(Y_raw_over_true)\n",
    "    std_cor = np.std(Y_cor_over_true)\n",
    "    eff_sig_raw = effSigma(Y_raw_over_true)\n",
    "    eff_sig_cor = effSigma(Y_cor_over_true)\n",
    "    plt.hist(Y_cor_over_true, bins=200, range=(0,1.68), alpha=0.5, label='$E_{cor}$/$E_{true}$, $\\sigma_{eff}$=%.2f'%eff_sig_cor)\n",
    "    plt.hist(Y_raw_over_true, bins=200, range=(0,1.68), alpha=0.5, label='$E_{raw}$/$E_{true}$, $\\sigma_{eff}$=%.2f'%eff_sig_raw)\n",
    "    plt.legend(fontsize=13, loc='upper left')\n",
    "    plt.xlabel('E/$E_{true}$',horizontalalignment='right', x=1.0, fontsize=14, labelpad=6)\n",
    "    plt.ylabel('Events',horizontalalignment='right', y=1.0, fontsize=14, labelpad=6)\n",
    "    #plt.show()\n",
    "    plt.savefig('plots/'+plotname+'.pdf')\n",
    "    plt.savefig('plots/'+plotname+'.png')"
   ]
  },
  {
   "cell_type": "code",
   "execution_count": 39,
   "metadata": {},
   "outputs": [
    {
     "data": {
      "image/png": "[encoded data removed]",
      "text/plain": [
       "<Figure size 432x288 with 1 Axes>"
      ]
     },
     "metadata": {
      "needs_background": "light"
     },
     "output_type": "display_data"
    }
   ],
   "source": [
    "plot_E_over_Etrue(Y_test_gamma1, Y_raw_test_gamma1, Y_predict_test_gamma1, \"EoverEtrue_gamma1\")"
   ]
  },
  {
   "cell_type": "code",
   "execution_count": 40,
   "metadata": {},
   "outputs": [
    {
     "data": {
      "image/png": "[encoded data removed]",
      "text/plain": [
       "<Figure size 432x288 with 1 Axes>"
      ]
     },
     "metadata": {
      "needs_background": "light"
     },
     "output_type": "display_data"
    }
   ],
   "source": [
    "plot_E_over_Etrue(Y_test_gamma1, Y_raw_test_gamma1, Y_predict_model2_test_gamma1, \"EoverEtrue_gamma1_model2\")"
   ]
  },
  {
   "cell_type": "code",
   "execution_count": 41,
   "metadata": {},
   "outputs": [
    {
     "data": {
      "image/png": "[encoded data removed]",
      "text/plain": [
       "<Figure size 432x288 with 1 Axes>"
      ]
     },
     "metadata": {
      "needs_background": "light"
     },
     "output_type": "display_data"
    }
   ],
   "source": [
    "plot_E_over_Etrue(Y_test_gamma1, Y_raw_test_gamma1, Y_predict_dense_test_gamma1, \"EoverEtrue_gamma1_dense\")"
   ]
  },
  {
   "cell_type": "code",
   "execution_count": 42,
   "metadata": {},
   "outputs": [
    {
     "data": {
      "image/png": "[encoded data removed]",
      "text/plain": [
       "<Figure size 432x288 with 1 Axes>"
      ]
     },
     "metadata": {
      "needs_background": "light"
     },
     "output_type": "display_data"
    }
   ],
   "source": [
    "plot_E_over_Etrue(Y_test_gamma1, Y_raw_test_gamma1, Y_predict_xgboost_test_gamma1, \"EoverEtrue_gamma1_xgboost\")"
   ]
  },
  {
   "cell_type": "code",
   "execution_count": 43,
   "metadata": {},
   "outputs": [
    {
     "data": {
      "image/png": "[encoded data removed]",
      "text/plain": [
       "<Figure size 432x288 with 1 Axes>"
      ]
     },
     "metadata": {
      "needs_background": "light"
     },
     "output_type": "display_data"
    }
   ],
   "source": [
    "plot_E_over_Etrue(Y_test_gamma1, Y_raw_test_gamma1, Y_cor_test_gamma1, \"EoverEtrue_gamma1_benchmark\")"
   ]
  },
  {
   "cell_type": "code",
   "execution_count": 27,
   "metadata": {},
   "outputs": [
    {
     "data": {
      "text/plain": [
       "'\\nPossible improvements:\\n1) change target from Etrue to E/Etrue\\n2) change loss function to hinge loss\\n3) add more variables to input_Dense\\n4) remove the iEta and iPhi input in input_CNN\\n'"
      ]
     },
     "execution_count": 27,
     "metadata": {},
     "output_type": "execute_result"
    }
   ],
   "source": [
    "'''\n",
    "Possible improvements:\n",
    "1) change target from Etrue to E/Etrue\n",
    "2) change loss function to hinge loss\n",
    "3) add more variables to input_Dense\n",
    "4) remove the iEta and iPhi input in input_CNN\n",
    "'''"
   ]
  },
  {
   "cell_type": "code",
   "execution_count": null,
   "metadata": {},
   "outputs": [],
   "source": []
  },
  {
   "cell_type": "code",
   "execution_count": null,
   "metadata": {},
   "outputs": [],
   "source": []
  }
 ],
 "metadata": {
  "kernelspec": {
   "display_name": "Python 3",
   "language": "python",
   "name": "python3"
  },
  "language_info": {
   "codemirror_mode": {
    "name": "ipython",
    "version": 3
   },
   "file_extension": ".py",
   "mimetype": "text/x-python",
   "name": "python",
   "nbconvert_exporter": "python",
   "pygments_lexer": "ipython3",
   "version": "3.7.1"
  }
 },
 "nbformat": 4,
 "nbformat_minor": 2
}
